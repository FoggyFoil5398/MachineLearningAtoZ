{
 "cells": [
  {
   "cell_type": "markdown",
   "metadata": {},
   "source": [
    "# MACHINE LEARNING - How it is done !"
   ]
  },
  {
   "cell_type": "markdown",
   "metadata": {},
   "source": [
    "## Topics Covered :"
   ]
  },
  {
   "cell_type": "markdown",
   "metadata": {},
   "source": [
    "### 1. EDA (Exploratory Data Analysis)"
   ]
  },
  {
   "cell_type": "markdown",
   "metadata": {},
   "source": [
    "EDA is most of the time the most overlooked part in developing a Machine Learning model ! EDA basically involves finding patterns, anomalies, inconsistencies etc. in the data available to us in the initial phases. Which features might appear to be important but may make our model suffer, which features don't seem that important but can be the base for deriving another feature which the dependent variable might be depending hugely on etc. are some of the questions you can get answers about through EDA."
   ]
  },
  {
   "cell_type": "markdown",
   "metadata": {},
   "source": [
    "### 2. Feature Engineering"
   ]
  },
  {
   "cell_type": "markdown",
   "metadata": {},
   "source": [
    "Not every feature in the data given to us is useful/useless, not every feature given to us can be fed directly into our Machine Learning model, two features might be useless seperately but combination of both can prove to be more useful than any other feature available to us. This is the primary purpose of feature engineering. One thing to keep in mind regarding feature engineering is to not limit yourself just by the features that you can see but try to get insights on how one feature might prove to be important in some form apart from the one it is in, or how this feature might enhance some other feature through some operations which ultimately will make our result better than before."
   ]
  },
  {
   "cell_type": "markdown",
   "metadata": {},
   "source": [
    "### 3. Predictive Modeling"
   ]
  },
  {
   "cell_type": "markdown",
   "metadata": {},
   "source": [
    "Often times the only thing that people presume as what actually Machine Learning is - PREDICTIVE MODELING. Generating models is one thing, but predicting modeling also involves steps of evaluating the model the right way, tuning the model the right way, and above all this, selecting the right model to make our so much needed predictions (which mostly is a combination of hit and trial & intuition)!"
   ]
  },
  {
   "cell_type": "markdown",
   "metadata": {},
   "source": [
    "#### Importing Initial Libraries"
   ]
  },
  {
   "cell_type": "code",
   "execution_count": 1,
   "metadata": {
    "collapsed": true
   },
   "outputs": [],
   "source": [
    "import pandas as pd\n",
    "import matplotlib.pyplot as plt\n",
    "import seaborn as sns\n",
    "from pylab import *"
   ]
  },
  {
   "cell_type": "code",
   "execution_count": 2,
   "metadata": {
    "collapsed": true
   },
   "outputs": [],
   "source": [
    "#reading the csv file\n",
    "titanic = pd.read_csv('train.csv')"
   ]
  },
  {
   "cell_type": "markdown",
   "metadata": {},
   "source": [
    "The first step in any Machine Learning predictive analysis problem is to take an overlook of data. What each column signifies, how the data looks like, how the data is present in each row and column are the things to look out for. In this case the data has been taken up from kaggle.com so details regarding what a specific column signifies can be found at the same. Here is the link - https://www.kaggle.com/c/titanic/data"
   ]
  },
  {
   "cell_type": "code",
   "execution_count": 3,
   "metadata": {},
   "outputs": [
    {
     "data": {
      "text/html": [
       "<div>\n",
       "<style>\n",
       "    .dataframe thead tr:only-child th {\n",
       "        text-align: right;\n",
       "    }\n",
       "\n",
       "    .dataframe thead th {\n",
       "        text-align: left;\n",
       "    }\n",
       "\n",
       "    .dataframe tbody tr th {\n",
       "        vertical-align: top;\n",
       "    }\n",
       "</style>\n",
       "<table border=\"1\" class=\"dataframe\">\n",
       "  <thead>\n",
       "    <tr style=\"text-align: right;\">\n",
       "      <th></th>\n",
       "      <th>PassengerId</th>\n",
       "      <th>Survived</th>\n",
       "      <th>Pclass</th>\n",
       "      <th>Name</th>\n",
       "      <th>Sex</th>\n",
       "      <th>Age</th>\n",
       "      <th>SibSp</th>\n",
       "      <th>Parch</th>\n",
       "      <th>Ticket</th>\n",
       "      <th>Fare</th>\n",
       "      <th>Cabin</th>\n",
       "      <th>Embarked</th>\n",
       "    </tr>\n",
       "  </thead>\n",
       "  <tbody>\n",
       "    <tr>\n",
       "      <th>0</th>\n",
       "      <td>1</td>\n",
       "      <td>0</td>\n",
       "      <td>3</td>\n",
       "      <td>Braund, Mr. Owen Harris</td>\n",
       "      <td>male</td>\n",
       "      <td>22.0</td>\n",
       "      <td>1</td>\n",
       "      <td>0</td>\n",
       "      <td>A/5 21171</td>\n",
       "      <td>7.2500</td>\n",
       "      <td>NaN</td>\n",
       "      <td>S</td>\n",
       "    </tr>\n",
       "    <tr>\n",
       "      <th>1</th>\n",
       "      <td>2</td>\n",
       "      <td>1</td>\n",
       "      <td>1</td>\n",
       "      <td>Cumings, Mrs. John Bradley (Florence Briggs Th...</td>\n",
       "      <td>female</td>\n",
       "      <td>38.0</td>\n",
       "      <td>1</td>\n",
       "      <td>0</td>\n",
       "      <td>PC 17599</td>\n",
       "      <td>71.2833</td>\n",
       "      <td>C85</td>\n",
       "      <td>C</td>\n",
       "    </tr>\n",
       "    <tr>\n",
       "      <th>2</th>\n",
       "      <td>3</td>\n",
       "      <td>1</td>\n",
       "      <td>3</td>\n",
       "      <td>Heikkinen, Miss. Laina</td>\n",
       "      <td>female</td>\n",
       "      <td>26.0</td>\n",
       "      <td>0</td>\n",
       "      <td>0</td>\n",
       "      <td>STON/O2. 3101282</td>\n",
       "      <td>7.9250</td>\n",
       "      <td>NaN</td>\n",
       "      <td>S</td>\n",
       "    </tr>\n",
       "    <tr>\n",
       "      <th>3</th>\n",
       "      <td>4</td>\n",
       "      <td>1</td>\n",
       "      <td>1</td>\n",
       "      <td>Futrelle, Mrs. Jacques Heath (Lily May Peel)</td>\n",
       "      <td>female</td>\n",
       "      <td>35.0</td>\n",
       "      <td>1</td>\n",
       "      <td>0</td>\n",
       "      <td>113803</td>\n",
       "      <td>53.1000</td>\n",
       "      <td>C123</td>\n",
       "      <td>S</td>\n",
       "    </tr>\n",
       "    <tr>\n",
       "      <th>4</th>\n",
       "      <td>5</td>\n",
       "      <td>0</td>\n",
       "      <td>3</td>\n",
       "      <td>Allen, Mr. William Henry</td>\n",
       "      <td>male</td>\n",
       "      <td>35.0</td>\n",
       "      <td>0</td>\n",
       "      <td>0</td>\n",
       "      <td>373450</td>\n",
       "      <td>8.0500</td>\n",
       "      <td>NaN</td>\n",
       "      <td>S</td>\n",
       "    </tr>\n",
       "  </tbody>\n",
       "</table>\n",
       "</div>"
      ],
      "text/plain": [
       "   PassengerId  Survived  Pclass  \\\n",
       "0            1         0       3   \n",
       "1            2         1       1   \n",
       "2            3         1       3   \n",
       "3            4         1       1   \n",
       "4            5         0       3   \n",
       "\n",
       "                                                Name     Sex   Age  SibSp  \\\n",
       "0                            Braund, Mr. Owen Harris    male  22.0      1   \n",
       "1  Cumings, Mrs. John Bradley (Florence Briggs Th...  female  38.0      1   \n",
       "2                             Heikkinen, Miss. Laina  female  26.0      0   \n",
       "3       Futrelle, Mrs. Jacques Heath (Lily May Peel)  female  35.0      1   \n",
       "4                           Allen, Mr. William Henry    male  35.0      0   \n",
       "\n",
       "   Parch            Ticket     Fare Cabin Embarked  \n",
       "0      0         A/5 21171   7.2500   NaN        S  \n",
       "1      0          PC 17599  71.2833   C85        C  \n",
       "2      0  STON/O2. 3101282   7.9250   NaN        S  \n",
       "3      0            113803  53.1000  C123        S  \n",
       "4      0            373450   8.0500   NaN        S  "
      ]
     },
     "execution_count": 3,
     "metadata": {},
     "output_type": "execute_result"
    }
   ],
   "source": [
    "titanic.head()"
   ]
  },
  {
   "cell_type": "code",
   "execution_count": 4,
   "metadata": {},
   "outputs": [
    {
     "name": "stdout",
     "output_type": "stream",
     "text": [
      "Total number of individuals :  891\n",
      "Missing data for each column in percentage : \n"
     ]
    },
    {
     "data": {
      "text/plain": [
       "PassengerId     0.000000\n",
       "Survived        0.000000\n",
       "Pclass          0.000000\n",
       "Name            0.000000\n",
       "Sex             0.000000\n",
       "Age            19.865320\n",
       "SibSp           0.000000\n",
       "Parch           0.000000\n",
       "Ticket          0.000000\n",
       "Fare            0.000000\n",
       "Cabin          77.104377\n",
       "Embarked        0.224467\n",
       "dtype: float64"
      ]
     },
     "execution_count": 4,
     "metadata": {},
     "output_type": "execute_result"
    }
   ],
   "source": [
    "# Finding how much data is absent in each column from the dataset available\n",
    "print(\"Total number of individuals : \",titanic.shape[0])\n",
    "print(\"Missing data for each column in percentage : \")\n",
    "(titanic.isnull().sum()/titanic.shape[0])*100"
   ]
  },
  {
   "cell_type": "markdown",
   "metadata": {
    "collapsed": true
   },
   "source": [
    "Cabin does look like a feature which should be dropped since more than 75% of the data is null/missing\n",
    "Age and embarked can be worked upon to remove the null values\n",
    "We'll see what to do with them ! \n",
    "But the first step currently is to perform EDA (Exploratory Data Analysis)"
   ]
  },
  {
   "cell_type": "markdown",
   "metadata": {},
   "source": [
    "# 1. EDA (Exploratory Data Analysis)"
   ]
  },
  {
   "cell_type": "markdown",
   "metadata": {},
   "source": [
    "The main purpose of EDA is to gain insights through the data available to us i.e. to explore patterns, links in terms of correlation, importances etc. from the dataset. This is something fresh Machine Learning enthusiasts/learners and even some practictioners don't know about/avoid. Data given to you has more meaning to it than just cleaning it up and putting it into a black box ML ScikitLearn model ! The first step is to take advantage of the same !"
   ]
  },
  {
   "cell_type": "markdown",
   "metadata": {},
   "source": [
    "## 1.1 Survived vs Not survived"
   ]
  },
  {
   "cell_type": "code",
   "execution_count": 5,
   "metadata": {},
   "outputs": [
    {
     "data": {
      "image/png": "[encoded data removed]",
      "text/plain": [
       "<matplotlib.figure.Figure at 0x10ab12c50>"
      ]
     },
     "metadata": {},
     "output_type": "display_data"
    }
   ],
   "source": [
    "labels = ['Survived','Not survived']\n",
    "sizes = [titanic[titanic['Survived']==1].PassengerId.count(),titanic[titanic['Survived']==0].PassengerId.count()]\n",
    "colors = ['blue','red']\n",
    "explode = (0.1,0)\n",
    "patches,text = plt.pie(sizes,explode=explode,colors=colors, shadow=True)\n",
    "plt.legend(patches,labels,loc='best')\n",
    "plt.axis('equal')\n",
    "plt.show()"
   ]
  },
  {
   "cell_type": "markdown",
   "metadata": {},
   "source": [
    "From the visualisation above it is quite evident that more than half of the sample available to us died."
   ]
  },
  {
   "cell_type": "markdown",
   "metadata": {},
   "source": [
    "## 1.2 Sex vs Survived"
   ]
  },
  {
   "cell_type": "code",
   "execution_count": 6,
   "metadata": {},
   "outputs": [
    {
     "data": {
      "image/png": "[encoded data removed]",
      "text/plain": [
       "<matplotlib.figure.Figure at 0x10f5c0668>"
      ]
     },
     "metadata": {},
     "output_type": "display_data"
    }
   ],
   "source": [
    "plt.subplots(figsize=(6,10))\n",
    "subplot(2,1,1)\n",
    "sns.countplot('Sex',data=titanic)\n",
    "subplot(2,1,2)\n",
    "sns.countplot('Sex',hue='Survived',data=titanic)\n",
    "plt.show()"
   ]
  },
  {
   "cell_type": "code",
   "execution_count": 7,
   "metadata": {},
   "outputs": [
    {
     "data": {
      "text/plain": [
       "Sex     Survived\n",
       "female  0            81\n",
       "        1           233\n",
       "male    0           468\n",
       "        1           109\n",
       "Name: Survived, dtype: int64"
      ]
     },
     "execution_count": 7,
     "metadata": {},
     "output_type": "execute_result"
    }
   ],
   "source": [
    "titanic.groupby(['Sex','Survived'])['Survived'].count()"
   ]
  },
  {
   "cell_type": "markdown",
   "metadata": {
    "collapsed": true
   },
   "source": [
    "Females were saved more ! Naaiice !\n",
    "Female survival ratio is definitely a lot (2/3rd of total females) compared to that of male. Gender can hence be regarded as an important attribute to consider while building a model !"
   ]
  },
  {
   "cell_type": "markdown",
   "metadata": {},
   "source": [
    "## 1.3 PClass vs Survived"
   ]
  },
  {
   "cell_type": "markdown",
   "metadata": {},
   "source": [
    "Pclass can be seen as the class the passengers travelled in (much like business vs economy). I am using this in my EDA since intuitively people of higher class might have been given higher priority. We can find that out below !"
   ]
  },
  {
   "cell_type": "code",
   "execution_count": 8,
   "metadata": {},
   "outputs": [
    {
     "data": {
      "text/html": [
       "<style  type=\"text/css\" >\n",
       "    #T_1277da5c_1a2b_11e9_bcd5_d4619d1ccf32row0_col0 {\n",
       "            background-color:  #ffff66;\n",
       "        }    #T_1277da5c_1a2b_11e9_bcd5_d4619d1ccf32row0_col1 {\n",
       "            background-color:  #cee666;\n",
       "        }    #T_1277da5c_1a2b_11e9_bcd5_d4619d1ccf32row0_col2 {\n",
       "            background-color:  #f4fa66;\n",
       "        }    #T_1277da5c_1a2b_11e9_bcd5_d4619d1ccf32row1_col0 {\n",
       "            background-color:  #f6fa66;\n",
       "        }    #T_1277da5c_1a2b_11e9_bcd5_d4619d1ccf32row1_col1 {\n",
       "            background-color:  #ffff66;\n",
       "        }    #T_1277da5c_1a2b_11e9_bcd5_d4619d1ccf32row1_col2 {\n",
       "            background-color:  #ffff66;\n",
       "        }    #T_1277da5c_1a2b_11e9_bcd5_d4619d1ccf32row2_col0 {\n",
       "            background-color:  #60b066;\n",
       "        }    #T_1277da5c_1a2b_11e9_bcd5_d4619d1ccf32row2_col1 {\n",
       "            background-color:  #dfef66;\n",
       "        }    #T_1277da5c_1a2b_11e9_bcd5_d4619d1ccf32row2_col2 {\n",
       "            background-color:  #90c866;\n",
       "        }    #T_1277da5c_1a2b_11e9_bcd5_d4619d1ccf32row3_col0 {\n",
       "            background-color:  #008066;\n",
       "        }    #T_1277da5c_1a2b_11e9_bcd5_d4619d1ccf32row3_col1 {\n",
       "            background-color:  #008066;\n",
       "        }    #T_1277da5c_1a2b_11e9_bcd5_d4619d1ccf32row3_col2 {\n",
       "            background-color:  #008066;\n",
       "        }</style>  \n",
       "<table id=\"T_1277da5c_1a2b_11e9_bcd5_d4619d1ccf32\" > \n",
       "<thead>    <tr> \n",
       "        <th class=\"index_name level0\" >Survived</th> \n",
       "        <th class=\"col_heading level0 col0\" >0</th> \n",
       "        <th class=\"col_heading level0 col1\" >1</th> \n",
       "        <th class=\"col_heading level0 col2\" >All</th> \n",
       "    </tr>    <tr> \n",
       "        <th class=\"index_name level0\" >Pclass</th> \n",
       "        <th class=\"blank\" ></th> \n",
       "        <th class=\"blank\" ></th> \n",
       "        <th class=\"blank\" ></th> \n",
       "    </tr></thead> \n",
       "<tbody>    <tr> \n",
       "        <th id=\"T_1277da5c_1a2b_11e9_bcd5_d4619d1ccf32level0_row0\" class=\"row_heading level0 row0\" >1</th> \n",
       "        <td id=\"T_1277da5c_1a2b_11e9_bcd5_d4619d1ccf32row0_col0\" class=\"data row0 col0\" >80</td> \n",
       "        <td id=\"T_1277da5c_1a2b_11e9_bcd5_d4619d1ccf32row0_col1\" class=\"data row0 col1\" >136</td> \n",
       "        <td id=\"T_1277da5c_1a2b_11e9_bcd5_d4619d1ccf32row0_col2\" class=\"data row0 col2\" >216</td> \n",
       "    </tr>    <tr> \n",
       "        <th id=\"T_1277da5c_1a2b_11e9_bcd5_d4619d1ccf32level0_row1\" class=\"row_heading level0 row1\" >2</th> \n",
       "        <td id=\"T_1277da5c_1a2b_11e9_bcd5_d4619d1ccf32row1_col0\" class=\"data row1 col0\" >97</td> \n",
       "        <td id=\"T_1277da5c_1a2b_11e9_bcd5_d4619d1ccf32row1_col1\" class=\"data row1 col1\" >87</td> \n",
       "        <td id=\"T_1277da5c_1a2b_11e9_bcd5_d4619d1ccf32row1_col2\" class=\"data row1 col2\" >184</td> \n",
       "    </tr>    <tr> \n",
       "        <th id=\"T_1277da5c_1a2b_11e9_bcd5_d4619d1ccf32level0_row2\" class=\"row_heading level0 row2\" >3</th> \n",
       "        <td id=\"T_1277da5c_1a2b_11e9_bcd5_d4619d1ccf32row2_col0\" class=\"data row2 col0\" >372</td> \n",
       "        <td id=\"T_1277da5c_1a2b_11e9_bcd5_d4619d1ccf32row2_col1\" class=\"data row2 col1\" >119</td> \n",
       "        <td id=\"T_1277da5c_1a2b_11e9_bcd5_d4619d1ccf32row2_col2\" class=\"data row2 col2\" >491</td> \n",
       "    </tr>    <tr> \n",
       "        <th id=\"T_1277da5c_1a2b_11e9_bcd5_d4619d1ccf32level0_row3\" class=\"row_heading level0 row3\" >All</th> \n",
       "        <td id=\"T_1277da5c_1a2b_11e9_bcd5_d4619d1ccf32row3_col0\" class=\"data row3 col0\" >549</td> \n",
       "        <td id=\"T_1277da5c_1a2b_11e9_bcd5_d4619d1ccf32row3_col1\" class=\"data row3 col1\" >342</td> \n",
       "        <td id=\"T_1277da5c_1a2b_11e9_bcd5_d4619d1ccf32row3_col2\" class=\"data row3 col2\" >891</td> \n",
       "    </tr></tbody> \n",
       "</table> "
      ],
      "text/plain": [
       "<pandas.io.formats.style.Styler at 0x109da3fd0>"
      ]
     },
     "execution_count": 8,
     "metadata": {},
     "output_type": "execute_result"
    }
   ],
   "source": [
    "pd.crosstab(titanic.Pclass,titanic.Survived,margins=True).style.background_gradient(cmap='summer_r')\n",
    "#.style.background_gradient can be applied to any Dataframe/Series output. The result are easily interpret as dark colors in this example highlight higher values whereas lighter tone highlights smaller values"
   ]
  },
  {
   "cell_type": "markdown",
   "metadata": {},
   "source": [
    "As I suggested more than half of people travelling in Pclass 1 were saved whereas Not even 1/3rd of the people in Pclass 3 were saved. Discrimination was there to some extent based on pocket size !"
   ]
  },
  {
   "cell_type": "code",
   "execution_count": 9,
   "metadata": {},
   "outputs": [
    {
     "data": {
      "image/png": "[encoded data removed]",
      "text/plain": [
       "<matplotlib.figure.Figure at 0x108c90828>"
      ]
     },
     "metadata": {},
     "output_type": "display_data"
    }
   ],
   "source": [
    "plt.subplots(figsize=(6,10))\n",
    "subplot(2,1,1)\n",
    "a=titanic['Pclass'].value_counts().plot.bar(color=['red'])\n",
    "a.set_title('Number of passengers by class')\n",
    "# Highlighting the highest value of passengers in a single class\n",
    "a.patches[0].set_facecolor('b')\n",
    "subplot(2,1,2)\n",
    "\n",
    "#######     Important\n",
    "# Hue parameter here is useful as it is used to divide the data on basis of given Column !\n",
    "\n",
    "sns.countplot('Pclass',hue='Survived',data=titanic)\n",
    "plt.show()"
   ]
  },
  {
   "cell_type": "markdown",
   "metadata": {
    "collapsed": true
   },
   "source": [
    "Class 1 passengers survived more than any other class.\n",
    "Class 3 passengers died more than any other class"
   ]
  },
  {
   "cell_type": "markdown",
   "metadata": {},
   "source": [
    "### 1.3.1 Combining Pclass and Gender to gain insights"
   ]
  },
  {
   "cell_type": "code",
   "execution_count": 10,
   "metadata": {},
   "outputs": [
    {
     "data": {
      "text/html": [
       "<style  type=\"text/css\" >\n",
       "    #T_12e1550c_1a2b_11e9_9278_d4619d1ccf32row0_col0 {\n",
       "            background-color:  #ffff66;\n",
       "        }    #T_12e1550c_1a2b_11e9_9278_d4619d1ccf32row0_col1 {\n",
       "            background-color:  #c5e266;\n",
       "        }    #T_12e1550c_1a2b_11e9_9278_d4619d1ccf32row0_col2 {\n",
       "            background-color:  #fafc66;\n",
       "        }    #T_12e1550c_1a2b_11e9_9278_d4619d1ccf32row1_col0 {\n",
       "            background-color:  #ddee66;\n",
       "        }    #T_12e1550c_1a2b_11e9_9278_d4619d1ccf32row1_col1 {\n",
       "            background-color:  #e9f466;\n",
       "        }    #T_12e1550c_1a2b_11e9_9278_d4619d1ccf32row1_col2 {\n",
       "            background-color:  #f1f866;\n",
       "        }    #T_12e1550c_1a2b_11e9_9278_d4619d1ccf32row2_col0 {\n",
       "            background-color:  #fefe66;\n",
       "        }    #T_12e1550c_1a2b_11e9_9278_d4619d1ccf32row2_col1 {\n",
       "            background-color:  #d6eb66;\n",
       "        }    #T_12e1550c_1a2b_11e9_9278_d4619d1ccf32row2_col2 {\n",
       "            background-color:  #ffff66;\n",
       "        }    #T_12e1550c_1a2b_11e9_9278_d4619d1ccf32row3_col0 {\n",
       "            background-color:  #d6eb66;\n",
       "        }    #T_12e1550c_1a2b_11e9_9278_d4619d1ccf32row3_col1 {\n",
       "            background-color:  #ffff66;\n",
       "        }    #T_12e1550c_1a2b_11e9_9278_d4619d1ccf32row3_col2 {\n",
       "            background-color:  #f5fa66;\n",
       "        }    #T_12e1550c_1a2b_11e9_9278_d4619d1ccf32row4_col0 {\n",
       "            background-color:  #dfef66;\n",
       "        }    #T_12e1550c_1a2b_11e9_9278_d4619d1ccf32row4_col1 {\n",
       "            background-color:  #d4ea66;\n",
       "        }    #T_12e1550c_1a2b_11e9_9278_d4619d1ccf32row4_col2 {\n",
       "            background-color:  #eaf466;\n",
       "        }    #T_12e1550c_1a2b_11e9_9278_d4619d1ccf32row5_col0 {\n",
       "            background-color:  #74ba66;\n",
       "        }    #T_12e1550c_1a2b_11e9_9278_d4619d1ccf32row5_col1 {\n",
       "            background-color:  #e8f466;\n",
       "        }    #T_12e1550c_1a2b_11e9_9278_d4619d1ccf32row5_col2 {\n",
       "            background-color:  #aad466;\n",
       "        }    #T_12e1550c_1a2b_11e9_9278_d4619d1ccf32row6_col0 {\n",
       "            background-color:  #008066;\n",
       "        }    #T_12e1550c_1a2b_11e9_9278_d4619d1ccf32row6_col1 {\n",
       "            background-color:  #008066;\n",
       "        }    #T_12e1550c_1a2b_11e9_9278_d4619d1ccf32row6_col2 {\n",
       "            background-color:  #008066;\n",
       "        }</style>  \n",
       "<table id=\"T_12e1550c_1a2b_11e9_9278_d4619d1ccf32\" > \n",
       "<thead>    <tr> \n",
       "        <th class=\"blank\" ></th> \n",
       "        <th class=\"index_name level0\" >Survived</th> \n",
       "        <th class=\"col_heading level0 col0\" >0</th> \n",
       "        <th class=\"col_heading level0 col1\" >1</th> \n",
       "        <th class=\"col_heading level0 col2\" >All</th> \n",
       "    </tr>    <tr> \n",
       "        <th class=\"index_name level0\" >Pclass</th> \n",
       "        <th class=\"index_name level1\" >Sex</th> \n",
       "        <th class=\"blank\" ></th> \n",
       "        <th class=\"blank\" ></th> \n",
       "        <th class=\"blank\" ></th> \n",
       "    </tr></thead> \n",
       "<tbody>    <tr> \n",
       "        <th id=\"T_12e1550c_1a2b_11e9_9278_d4619d1ccf32level0_row0\" class=\"row_heading level0 row0\" rowspan=2>1</th> \n",
       "        <th id=\"T_12e1550c_1a2b_11e9_9278_d4619d1ccf32level1_row0\" class=\"row_heading level1 row0\" >female</th> \n",
       "        <td id=\"T_12e1550c_1a2b_11e9_9278_d4619d1ccf32row0_col0\" class=\"data row0 col0\" >3</td> \n",
       "        <td id=\"T_12e1550c_1a2b_11e9_9278_d4619d1ccf32row0_col1\" class=\"data row0 col1\" >91</td> \n",
       "        <td id=\"T_12e1550c_1a2b_11e9_9278_d4619d1ccf32row0_col2\" class=\"data row0 col2\" >94</td> \n",
       "    </tr>    <tr> \n",
       "        <th id=\"T_12e1550c_1a2b_11e9_9278_d4619d1ccf32level1_row1\" class=\"row_heading level1 row1\" >male</th> \n",
       "        <td id=\"T_12e1550c_1a2b_11e9_9278_d4619d1ccf32row1_col0\" class=\"data row1 col0\" >77</td> \n",
       "        <td id=\"T_12e1550c_1a2b_11e9_9278_d4619d1ccf32row1_col1\" class=\"data row1 col1\" >45</td> \n",
       "        <td id=\"T_12e1550c_1a2b_11e9_9278_d4619d1ccf32row1_col2\" class=\"data row1 col2\" >122</td> \n",
       "    </tr>    <tr> \n",
       "        <th id=\"T_12e1550c_1a2b_11e9_9278_d4619d1ccf32level0_row2\" class=\"row_heading level0 row2\" rowspan=2>2</th> \n",
       "        <th id=\"T_12e1550c_1a2b_11e9_9278_d4619d1ccf32level1_row2\" class=\"row_heading level1 row2\" >female</th> \n",
       "        <td id=\"T_12e1550c_1a2b_11e9_9278_d4619d1ccf32row2_col0\" class=\"data row2 col0\" >6</td> \n",
       "        <td id=\"T_12e1550c_1a2b_11e9_9278_d4619d1ccf32row2_col1\" class=\"data row2 col1\" >70</td> \n",
       "        <td id=\"T_12e1550c_1a2b_11e9_9278_d4619d1ccf32row2_col2\" class=\"data row2 col2\" >76</td> \n",
       "    </tr>    <tr> \n",
       "        <th id=\"T_12e1550c_1a2b_11e9_9278_d4619d1ccf32level1_row3\" class=\"row_heading level1 row3\" >male</th> \n",
       "        <td id=\"T_12e1550c_1a2b_11e9_9278_d4619d1ccf32row3_col0\" class=\"data row3 col0\" >91</td> \n",
       "        <td id=\"T_12e1550c_1a2b_11e9_9278_d4619d1ccf32row3_col1\" class=\"data row3 col1\" >17</td> \n",
       "        <td id=\"T_12e1550c_1a2b_11e9_9278_d4619d1ccf32row3_col2\" class=\"data row3 col2\" >108</td> \n",
       "    </tr>    <tr> \n",
       "        <th id=\"T_12e1550c_1a2b_11e9_9278_d4619d1ccf32level0_row4\" class=\"row_heading level0 row4\" rowspan=2>3</th> \n",
       "        <th id=\"T_12e1550c_1a2b_11e9_9278_d4619d1ccf32level1_row4\" class=\"row_heading level1 row4\" >female</th> \n",
       "        <td id=\"T_12e1550c_1a2b_11e9_9278_d4619d1ccf32row4_col0\" class=\"data row4 col0\" >72</td> \n",
       "        <td id=\"T_12e1550c_1a2b_11e9_9278_d4619d1ccf32row4_col1\" class=\"data row4 col1\" >72</td> \n",
       "        <td id=\"T_12e1550c_1a2b_11e9_9278_d4619d1ccf32row4_col2\" class=\"data row4 col2\" >144</td> \n",
       "    </tr>    <tr> \n",
       "        <th id=\"T_12e1550c_1a2b_11e9_9278_d4619d1ccf32level1_row5\" class=\"row_heading level1 row5\" >male</th> \n",
       "        <td id=\"T_12e1550c_1a2b_11e9_9278_d4619d1ccf32row5_col0\" class=\"data row5 col0\" >300</td> \n",
       "        <td id=\"T_12e1550c_1a2b_11e9_9278_d4619d1ccf32row5_col1\" class=\"data row5 col1\" >47</td> \n",
       "        <td id=\"T_12e1550c_1a2b_11e9_9278_d4619d1ccf32row5_col2\" class=\"data row5 col2\" >347</td> \n",
       "    </tr>    <tr> \n",
       "        <th id=\"T_12e1550c_1a2b_11e9_9278_d4619d1ccf32level0_row6\" class=\"row_heading level0 row6\" >All</th> \n",
       "        <th id=\"T_12e1550c_1a2b_11e9_9278_d4619d1ccf32level1_row6\" class=\"row_heading level1 row6\" ></th> \n",
       "        <td id=\"T_12e1550c_1a2b_11e9_9278_d4619d1ccf32row6_col0\" class=\"data row6 col0\" >549</td> \n",
       "        <td id=\"T_12e1550c_1a2b_11e9_9278_d4619d1ccf32row6_col1\" class=\"data row6 col1\" >342</td> \n",
       "        <td id=\"T_12e1550c_1a2b_11e9_9278_d4619d1ccf32row6_col2\" class=\"data row6 col2\" >891</td> \n",
       "    </tr></tbody> \n",
       "</table> "
      ],
      "text/plain": [
       "<pandas.io.formats.style.Styler at 0x114913c18>"
      ]
     },
     "execution_count": 10,
     "metadata": {},
     "output_type": "execute_result"
    }
   ],
   "source": [
    "pd.crosstab([titanic.Pclass,titanic.Sex],titanic.Survived,margins=True).style.background_gradient(cmap='summer_r')"
   ]
  },
  {
   "cell_type": "markdown",
   "metadata": {},
   "source": [
    "Females in class1 survived the most. Males in Pclass3 died the most ! Female till Pclass2 were given Very High preferences !"
   ]
  },
  {
   "cell_type": "code",
   "execution_count": 11,
   "metadata": {},
   "outputs": [
    {
     "data": {
      "image/png": "[encoded data removed]",
      "text/plain": [
       "<matplotlib.figure.Figure at 0x11493bc50>"
      ]
     },
     "metadata": {},
     "output_type": "display_data"
    }
   ],
   "source": [
    "sns.factorplot('Pclass','Survived',data=titanic)\n",
    "plt.show()"
   ]
  },
  {
   "cell_type": "markdown",
   "metadata": {
    "collapsed": true
   },
   "source": [
    "Class 1 survived the most ! Remember - Factorplot gives the mean of survival and plots that hence we are getting a value somewhere around 0.64 for Pclass1 in terms of survived !"
   ]
  },
  {
   "cell_type": "code",
   "execution_count": 12,
   "metadata": {},
   "outputs": [
    {
     "data": {
      "image/png": "[encoded data removed]",
      "text/plain": [
       "<matplotlib.figure.Figure at 0x10f63d978>"
      ]
     },
     "metadata": {},
     "output_type": "display_data"
    }
   ],
   "source": [
    "sns.factorplot('Pclass','Survived',hue='Sex',data=titanic)\n",
    "plt.show()"
   ]
  },
  {
   "cell_type": "markdown",
   "metadata": {
    "collapsed": true
   },
   "source": [
    "Females in general were given more preference than male members but the same is not true for the females of Pclass3"
   ]
  },
  {
   "cell_type": "markdown",
   "metadata": {},
   "source": [
    "## 1.4 Age vs Survived"
   ]
  },
  {
   "cell_type": "code",
   "execution_count": 13,
   "metadata": {},
   "outputs": [
    {
     "data": {
      "text/plain": [
       "count    714.000000\n",
       "mean      29.699118\n",
       "std       14.526497\n",
       "min        0.420000\n",
       "25%       20.125000\n",
       "50%       28.000000\n",
       "75%       38.000000\n",
       "max       80.000000\n",
       "Name: Age, dtype: float64"
      ]
     },
     "execution_count": 13,
     "metadata": {},
     "output_type": "execute_result"
    }
   ],
   "source": [
    "titanic.Age.describe()"
   ]
  },
  {
   "cell_type": "code",
   "execution_count": 14,
   "metadata": {},
   "outputs": [
    {
     "name": "stdout",
     "output_type": "stream",
     "text": [
      "Maximum Age :  80.0\n",
      "Minimum Age :  0.42\n",
      "Mean Age :  29.69911764705882\n"
     ]
    }
   ],
   "source": [
    "print(\"Maximum Age : \",titanic['Age'].max())\n",
    "print(\"Minimum Age : \",titanic['Age'].min())\n",
    "print(\"Mean Age : \",titanic['Age'].mean())"
   ]
  },
  {
   "cell_type": "code",
   "execution_count": 15,
   "metadata": {},
   "outputs": [
    {
     "data": {
      "image/png": "[encoded data removed]",
      "text/plain": [
       "<matplotlib.figure.Figure at 0x114bfc278>"
      ]
     },
     "metadata": {},
     "output_type": "display_data"
    }
   ],
   "source": [
    "#violinplot is a distribution graph but can be used to compare two values in a continuous range.\n",
    "f,ax = plt.subplots(1,2,figsize=(18,8))\n",
    "sns.violinplot('Pclass','Age',hue='Survived',data=titanic,split=True,ax=ax[0])\n",
    "ax[0].set_title('Pclass and Age vs Survived')\n",
    "ax[0].set_yticks(range(0,110,10))\n",
    "sns.violinplot(\"Sex\",\"Age\", hue=\"Survived\", data=titanic,split=True,ax=ax[1])\n",
    "ax[1].set_title('Sex and Age vs Survived')\n",
    "ax[1].set_yticks(range(0,110,10))\n",
    "plt.show()"
   ]
  },
  {
   "cell_type": "markdown",
   "metadata": {},
   "source": [
    "Pclass and Age vs Survived : Children in Pclass 2 and 3 were saved more whereas Older people in Pclass1 were saved more.\n",
    "Sex and Age vs Survived : Male Children survived more whereas females survived/died in what appears to look like a normal distribution"
   ]
  },
  {
   "cell_type": "markdown",
   "metadata": {},
   "source": [
    "Now as can be seen above, Age column has some null values. We can fill them with average value in Age column but that would be inappropriate since apointing mean age of 29 to a child or an old person will make our ultimate prediction made not only in the training phase but in the testing phase as well ! So how about we try to extract the initials used to describe a person and then find out there mean age for that particular category having same initial in their name ? Sounds like a plan to me."
   ]
  },
  {
   "cell_type": "code",
   "execution_count": 16,
   "metadata": {},
   "outputs": [
    {
     "name": "stderr",
     "output_type": "stream",
     "text": [
      "/Applications/anaconda3/lib/python3.6/site-packages/ipykernel_launcher.py:2: FutureWarning: currently extract(expand=None) means expand=False (return Index/Series/DataFrame) but in a future version of pandas this will be changed to expand=True (return DataFrame)\n",
      "  \n"
     ]
    }
   ],
   "source": [
    "titanic['Initials']=0\n",
    "titanic['Initials']=titanic.Name.str.extract('([A-Za-z]+)\\.')\n",
    "#The above statement finds out all the things written before '.' in the name column which actually are nothing but initials!"
   ]
  },
  {
   "cell_type": "code",
   "execution_count": 17,
   "metadata": {},
   "outputs": [
    {
     "data": {
      "text/html": [
       "<style  type=\"text/css\" >\n",
       "    #T_13f20fe2_1a2b_11e9_a5ac_d4619d1ccf32row0_col0 {\n",
       "            background-color:  #ffff66;\n",
       "        }    #T_13f20fe2_1a2b_11e9_a5ac_d4619d1ccf32row0_col1 {\n",
       "            background-color:  #ffff66;\n",
       "        }    #T_13f20fe2_1a2b_11e9_a5ac_d4619d1ccf32row0_col2 {\n",
       "            background-color:  #ffff66;\n",
       "        }    #T_13f20fe2_1a2b_11e9_a5ac_d4619d1ccf32row1_col0 {\n",
       "            background-color:  #ffff66;\n",
       "        }    #T_13f20fe2_1a2b_11e9_a5ac_d4619d1ccf32row1_col1 {\n",
       "            background-color:  #ffff66;\n",
       "        }    #T_13f20fe2_1a2b_11e9_a5ac_d4619d1ccf32row1_col2 {\n",
       "            background-color:  #ffff66;\n",
       "        }    #T_13f20fe2_1a2b_11e9_a5ac_d4619d1ccf32row2_col0 {\n",
       "            background-color:  #ffff66;\n",
       "        }    #T_13f20fe2_1a2b_11e9_a5ac_d4619d1ccf32row2_col1 {\n",
       "            background-color:  #ffff66;\n",
       "        }    #T_13f20fe2_1a2b_11e9_a5ac_d4619d1ccf32row2_col2 {\n",
       "            background-color:  #ffff66;\n",
       "        }    #T_13f20fe2_1a2b_11e9_a5ac_d4619d1ccf32row3_col0 {\n",
       "            background-color:  #ffff66;\n",
       "        }    #T_13f20fe2_1a2b_11e9_a5ac_d4619d1ccf32row3_col1 {\n",
       "            background-color:  #ffff66;\n",
       "        }    #T_13f20fe2_1a2b_11e9_a5ac_d4619d1ccf32row3_col2 {\n",
       "            background-color:  #ffff66;\n",
       "        }    #T_13f20fe2_1a2b_11e9_a5ac_d4619d1ccf32row4_col0 {\n",
       "            background-color:  #fefe66;\n",
       "        }    #T_13f20fe2_1a2b_11e9_a5ac_d4619d1ccf32row4_col1 {\n",
       "            background-color:  #fdfe66;\n",
       "        }    #T_13f20fe2_1a2b_11e9_a5ac_d4619d1ccf32row4_col2 {\n",
       "            background-color:  #fefe66;\n",
       "        }    #T_13f20fe2_1a2b_11e9_a5ac_d4619d1ccf32row5_col0 {\n",
       "            background-color:  #ffff66;\n",
       "        }    #T_13f20fe2_1a2b_11e9_a5ac_d4619d1ccf32row5_col1 {\n",
       "            background-color:  #ffff66;\n",
       "        }    #T_13f20fe2_1a2b_11e9_a5ac_d4619d1ccf32row5_col2 {\n",
       "            background-color:  #ffff66;\n",
       "        }    #T_13f20fe2_1a2b_11e9_a5ac_d4619d1ccf32row6_col0 {\n",
       "            background-color:  #ffff66;\n",
       "        }    #T_13f20fe2_1a2b_11e9_a5ac_d4619d1ccf32row6_col1 {\n",
       "            background-color:  #ffff66;\n",
       "        }    #T_13f20fe2_1a2b_11e9_a5ac_d4619d1ccf32row6_col2 {\n",
       "            background-color:  #ffff66;\n",
       "        }    #T_13f20fe2_1a2b_11e9_a5ac_d4619d1ccf32row7_col0 {\n",
       "            background-color:  #ffff66;\n",
       "        }    #T_13f20fe2_1a2b_11e9_a5ac_d4619d1ccf32row7_col1 {\n",
       "            background-color:  #ffff66;\n",
       "        }    #T_13f20fe2_1a2b_11e9_a5ac_d4619d1ccf32row7_col2 {\n",
       "            background-color:  #ffff66;\n",
       "        }    #T_13f20fe2_1a2b_11e9_a5ac_d4619d1ccf32row8_col0 {\n",
       "            background-color:  #f8fc66;\n",
       "        }    #T_13f20fe2_1a2b_11e9_a5ac_d4619d1ccf32row8_col1 {\n",
       "            background-color:  #eef666;\n",
       "        }    #T_13f20fe2_1a2b_11e9_a5ac_d4619d1ccf32row8_col2 {\n",
       "            background-color:  #f4fa66;\n",
       "        }    #T_13f20fe2_1a2b_11e9_a5ac_d4619d1ccf32row9_col0 {\n",
       "            background-color:  #e6f266;\n",
       "        }    #T_13f20fe2_1a2b_11e9_a5ac_d4619d1ccf32row9_col1 {\n",
       "            background-color:  #a0d066;\n",
       "        }    #T_13f20fe2_1a2b_11e9_a5ac_d4619d1ccf32row9_col2 {\n",
       "            background-color:  #cbe566;\n",
       "        }    #T_13f20fe2_1a2b_11e9_a5ac_d4619d1ccf32row10_col0 {\n",
       "            background-color:  #ffff66;\n",
       "        }    #T_13f20fe2_1a2b_11e9_a5ac_d4619d1ccf32row10_col1 {\n",
       "            background-color:  #fefe66;\n",
       "        }    #T_13f20fe2_1a2b_11e9_a5ac_d4619d1ccf32row10_col2 {\n",
       "            background-color:  #ffff66;\n",
       "        }    #T_13f20fe2_1a2b_11e9_a5ac_d4619d1ccf32row11_col0 {\n",
       "            background-color:  #ffff66;\n",
       "        }    #T_13f20fe2_1a2b_11e9_a5ac_d4619d1ccf32row11_col1 {\n",
       "            background-color:  #ffff66;\n",
       "        }    #T_13f20fe2_1a2b_11e9_a5ac_d4619d1ccf32row11_col2 {\n",
       "            background-color:  #ffff66;\n",
       "        }    #T_13f20fe2_1a2b_11e9_a5ac_d4619d1ccf32row12_col0 {\n",
       "            background-color:  #349a66;\n",
       "        }    #T_13f20fe2_1a2b_11e9_a5ac_d4619d1ccf32row12_col1 {\n",
       "            background-color:  #c3e166;\n",
       "        }    #T_13f20fe2_1a2b_11e9_a5ac_d4619d1ccf32row12_col2 {\n",
       "            background-color:  #6bb566;\n",
       "        }    #T_13f20fe2_1a2b_11e9_a5ac_d4619d1ccf32row13_col0 {\n",
       "            background-color:  #f3f966;\n",
       "        }    #T_13f20fe2_1a2b_11e9_a5ac_d4619d1ccf32row13_col1 {\n",
       "            background-color:  #b5da66;\n",
       "        }    #T_13f20fe2_1a2b_11e9_a5ac_d4619d1ccf32row13_col2 {\n",
       "            background-color:  #dcee66;\n",
       "        }    #T_13f20fe2_1a2b_11e9_a5ac_d4619d1ccf32row14_col0 {\n",
       "            background-color:  #ffff66;\n",
       "        }    #T_13f20fe2_1a2b_11e9_a5ac_d4619d1ccf32row14_col1 {\n",
       "            background-color:  #ffff66;\n",
       "        }    #T_13f20fe2_1a2b_11e9_a5ac_d4619d1ccf32row14_col2 {\n",
       "            background-color:  #ffff66;\n",
       "        }    #T_13f20fe2_1a2b_11e9_a5ac_d4619d1ccf32row15_col0 {\n",
       "            background-color:  #fdfe66;\n",
       "        }    #T_13f20fe2_1a2b_11e9_a5ac_d4619d1ccf32row15_col1 {\n",
       "            background-color:  #ffff66;\n",
       "        }    #T_13f20fe2_1a2b_11e9_a5ac_d4619d1ccf32row15_col2 {\n",
       "            background-color:  #fefe66;\n",
       "        }    #T_13f20fe2_1a2b_11e9_a5ac_d4619d1ccf32row16_col0 {\n",
       "            background-color:  #ffff66;\n",
       "        }    #T_13f20fe2_1a2b_11e9_a5ac_d4619d1ccf32row16_col1 {\n",
       "            background-color:  #ffff66;\n",
       "        }    #T_13f20fe2_1a2b_11e9_a5ac_d4619d1ccf32row16_col2 {\n",
       "            background-color:  #ffff66;\n",
       "        }    #T_13f20fe2_1a2b_11e9_a5ac_d4619d1ccf32row17_col0 {\n",
       "            background-color:  #008066;\n",
       "        }    #T_13f20fe2_1a2b_11e9_a5ac_d4619d1ccf32row17_col1 {\n",
       "            background-color:  #008066;\n",
       "        }    #T_13f20fe2_1a2b_11e9_a5ac_d4619d1ccf32row17_col2 {\n",
       "            background-color:  #008066;\n",
       "        }</style>  \n",
       "<table id=\"T_13f20fe2_1a2b_11e9_a5ac_d4619d1ccf32\" > \n",
       "<thead>    <tr> \n",
       "        <th class=\"index_name level0\" >Survived</th> \n",
       "        <th class=\"col_heading level0 col0\" >0</th> \n",
       "        <th class=\"col_heading level0 col1\" >1</th> \n",
       "        <th class=\"col_heading level0 col2\" >All</th> \n",
       "    </tr>    <tr> \n",
       "        <th class=\"index_name level0\" >Initials</th> \n",
       "        <th class=\"blank\" ></th> \n",
       "        <th class=\"blank\" ></th> \n",
       "        <th class=\"blank\" ></th> \n",
       "    </tr></thead> \n",
       "<tbody>    <tr> \n",
       "        <th id=\"T_13f20fe2_1a2b_11e9_a5ac_d4619d1ccf32level0_row0\" class=\"row_heading level0 row0\" >Capt</th> \n",
       "        <td id=\"T_13f20fe2_1a2b_11e9_a5ac_d4619d1ccf32row0_col0\" class=\"data row0 col0\" >1</td> \n",
       "        <td id=\"T_13f20fe2_1a2b_11e9_a5ac_d4619d1ccf32row0_col1\" class=\"data row0 col1\" >0</td> \n",
       "        <td id=\"T_13f20fe2_1a2b_11e9_a5ac_d4619d1ccf32row0_col2\" class=\"data row0 col2\" >1</td> \n",
       "    </tr>    <tr> \n",
       "        <th id=\"T_13f20fe2_1a2b_11e9_a5ac_d4619d1ccf32level0_row1\" class=\"row_heading level0 row1\" >Col</th> \n",
       "        <td id=\"T_13f20fe2_1a2b_11e9_a5ac_d4619d1ccf32row1_col0\" class=\"data row1 col0\" >1</td> \n",
       "        <td id=\"T_13f20fe2_1a2b_11e9_a5ac_d4619d1ccf32row1_col1\" class=\"data row1 col1\" >1</td> \n",
       "        <td id=\"T_13f20fe2_1a2b_11e9_a5ac_d4619d1ccf32row1_col2\" class=\"data row1 col2\" >2</td> \n",
       "    </tr>    <tr> \n",
       "        <th id=\"T_13f20fe2_1a2b_11e9_a5ac_d4619d1ccf32level0_row2\" class=\"row_heading level0 row2\" >Countess</th> \n",
       "        <td id=\"T_13f20fe2_1a2b_11e9_a5ac_d4619d1ccf32row2_col0\" class=\"data row2 col0\" >0</td> \n",
       "        <td id=\"T_13f20fe2_1a2b_11e9_a5ac_d4619d1ccf32row2_col1\" class=\"data row2 col1\" >1</td> \n",
       "        <td id=\"T_13f20fe2_1a2b_11e9_a5ac_d4619d1ccf32row2_col2\" class=\"data row2 col2\" >1</td> \n",
       "    </tr>    <tr> \n",
       "        <th id=\"T_13f20fe2_1a2b_11e9_a5ac_d4619d1ccf32level0_row3\" class=\"row_heading level0 row3\" >Don</th> \n",
       "        <td id=\"T_13f20fe2_1a2b_11e9_a5ac_d4619d1ccf32row3_col0\" class=\"data row3 col0\" >1</td> \n",
       "        <td id=\"T_13f20fe2_1a2b_11e9_a5ac_d4619d1ccf32row3_col1\" class=\"data row3 col1\" >0</td> \n",
       "        <td id=\"T_13f20fe2_1a2b_11e9_a5ac_d4619d1ccf32row3_col2\" class=\"data row3 col2\" >1</td> \n",
       "    </tr>    <tr> \n",
       "        <th id=\"T_13f20fe2_1a2b_11e9_a5ac_d4619d1ccf32level0_row4\" class=\"row_heading level0 row4\" >Dr</th> \n",
       "        <td id=\"T_13f20fe2_1a2b_11e9_a5ac_d4619d1ccf32row4_col0\" class=\"data row4 col0\" >4</td> \n",
       "        <td id=\"T_13f20fe2_1a2b_11e9_a5ac_d4619d1ccf32row4_col1\" class=\"data row4 col1\" >3</td> \n",
       "        <td id=\"T_13f20fe2_1a2b_11e9_a5ac_d4619d1ccf32row4_col2\" class=\"data row4 col2\" >7</td> \n",
       "    </tr>    <tr> \n",
       "        <th id=\"T_13f20fe2_1a2b_11e9_a5ac_d4619d1ccf32level0_row5\" class=\"row_heading level0 row5\" >Jonkheer</th> \n",
       "        <td id=\"T_13f20fe2_1a2b_11e9_a5ac_d4619d1ccf32row5_col0\" class=\"data row5 col0\" >1</td> \n",
       "        <td id=\"T_13f20fe2_1a2b_11e9_a5ac_d4619d1ccf32row5_col1\" class=\"data row5 col1\" >0</td> \n",
       "        <td id=\"T_13f20fe2_1a2b_11e9_a5ac_d4619d1ccf32row5_col2\" class=\"data row5 col2\" >1</td> \n",
       "    </tr>    <tr> \n",
       "        <th id=\"T_13f20fe2_1a2b_11e9_a5ac_d4619d1ccf32level0_row6\" class=\"row_heading level0 row6\" >Lady</th> \n",
       "        <td id=\"T_13f20fe2_1a2b_11e9_a5ac_d4619d1ccf32row6_col0\" class=\"data row6 col0\" >0</td> \n",
       "        <td id=\"T_13f20fe2_1a2b_11e9_a5ac_d4619d1ccf32row6_col1\" class=\"data row6 col1\" >1</td> \n",
       "        <td id=\"T_13f20fe2_1a2b_11e9_a5ac_d4619d1ccf32row6_col2\" class=\"data row6 col2\" >1</td> \n",
       "    </tr>    <tr> \n",
       "        <th id=\"T_13f20fe2_1a2b_11e9_a5ac_d4619d1ccf32level0_row7\" class=\"row_heading level0 row7\" >Major</th> \n",
       "        <td id=\"T_13f20fe2_1a2b_11e9_a5ac_d4619d1ccf32row7_col0\" class=\"data row7 col0\" >1</td> \n",
       "        <td id=\"T_13f20fe2_1a2b_11e9_a5ac_d4619d1ccf32row7_col1\" class=\"data row7 col1\" >1</td> \n",
       "        <td id=\"T_13f20fe2_1a2b_11e9_a5ac_d4619d1ccf32row7_col2\" class=\"data row7 col2\" >2</td> \n",
       "    </tr>    <tr> \n",
       "        <th id=\"T_13f20fe2_1a2b_11e9_a5ac_d4619d1ccf32level0_row8\" class=\"row_heading level0 row8\" >Master</th> \n",
       "        <td id=\"T_13f20fe2_1a2b_11e9_a5ac_d4619d1ccf32row8_col0\" class=\"data row8 col0\" >17</td> \n",
       "        <td id=\"T_13f20fe2_1a2b_11e9_a5ac_d4619d1ccf32row8_col1\" class=\"data row8 col1\" >23</td> \n",
       "        <td id=\"T_13f20fe2_1a2b_11e9_a5ac_d4619d1ccf32row8_col2\" class=\"data row8 col2\" >40</td> \n",
       "    </tr>    <tr> \n",
       "        <th id=\"T_13f20fe2_1a2b_11e9_a5ac_d4619d1ccf32level0_row9\" class=\"row_heading level0 row9\" >Miss</th> \n",
       "        <td id=\"T_13f20fe2_1a2b_11e9_a5ac_d4619d1ccf32row9_col0\" class=\"data row9 col0\" >55</td> \n",
       "        <td id=\"T_13f20fe2_1a2b_11e9_a5ac_d4619d1ccf32row9_col1\" class=\"data row9 col1\" >127</td> \n",
       "        <td id=\"T_13f20fe2_1a2b_11e9_a5ac_d4619d1ccf32row9_col2\" class=\"data row9 col2\" >182</td> \n",
       "    </tr>    <tr> \n",
       "        <th id=\"T_13f20fe2_1a2b_11e9_a5ac_d4619d1ccf32level0_row10\" class=\"row_heading level0 row10\" >Mlle</th> \n",
       "        <td id=\"T_13f20fe2_1a2b_11e9_a5ac_d4619d1ccf32row10_col0\" class=\"data row10 col0\" >0</td> \n",
       "        <td id=\"T_13f20fe2_1a2b_11e9_a5ac_d4619d1ccf32row10_col1\" class=\"data row10 col1\" >2</td> \n",
       "        <td id=\"T_13f20fe2_1a2b_11e9_a5ac_d4619d1ccf32row10_col2\" class=\"data row10 col2\" >2</td> \n",
       "    </tr>    <tr> \n",
       "        <th id=\"T_13f20fe2_1a2b_11e9_a5ac_d4619d1ccf32level0_row11\" class=\"row_heading level0 row11\" >Mme</th> \n",
       "        <td id=\"T_13f20fe2_1a2b_11e9_a5ac_d4619d1ccf32row11_col0\" class=\"data row11 col0\" >0</td> \n",
       "        <td id=\"T_13f20fe2_1a2b_11e9_a5ac_d4619d1ccf32row11_col1\" class=\"data row11 col1\" >1</td> \n",
       "        <td id=\"T_13f20fe2_1a2b_11e9_a5ac_d4619d1ccf32row11_col2\" class=\"data row11 col2\" >1</td> \n",
       "    </tr>    <tr> \n",
       "        <th id=\"T_13f20fe2_1a2b_11e9_a5ac_d4619d1ccf32level0_row12\" class=\"row_heading level0 row12\" >Mr</th> \n",
       "        <td id=\"T_13f20fe2_1a2b_11e9_a5ac_d4619d1ccf32row12_col0\" class=\"data row12 col0\" >436</td> \n",
       "        <td id=\"T_13f20fe2_1a2b_11e9_a5ac_d4619d1ccf32row12_col1\" class=\"data row12 col1\" >81</td> \n",
       "        <td id=\"T_13f20fe2_1a2b_11e9_a5ac_d4619d1ccf32row12_col2\" class=\"data row12 col2\" >517</td> \n",
       "    </tr>    <tr> \n",
       "        <th id=\"T_13f20fe2_1a2b_11e9_a5ac_d4619d1ccf32level0_row13\" class=\"row_heading level0 row13\" >Mrs</th> \n",
       "        <td id=\"T_13f20fe2_1a2b_11e9_a5ac_d4619d1ccf32row13_col0\" class=\"data row13 col0\" >26</td> \n",
       "        <td id=\"T_13f20fe2_1a2b_11e9_a5ac_d4619d1ccf32row13_col1\" class=\"data row13 col1\" >99</td> \n",
       "        <td id=\"T_13f20fe2_1a2b_11e9_a5ac_d4619d1ccf32row13_col2\" class=\"data row13 col2\" >125</td> \n",
       "    </tr>    <tr> \n",
       "        <th id=\"T_13f20fe2_1a2b_11e9_a5ac_d4619d1ccf32level0_row14\" class=\"row_heading level0 row14\" >Ms</th> \n",
       "        <td id=\"T_13f20fe2_1a2b_11e9_a5ac_d4619d1ccf32row14_col0\" class=\"data row14 col0\" >0</td> \n",
       "        <td id=\"T_13f20fe2_1a2b_11e9_a5ac_d4619d1ccf32row14_col1\" class=\"data row14 col1\" >1</td> \n",
       "        <td id=\"T_13f20fe2_1a2b_11e9_a5ac_d4619d1ccf32row14_col2\" class=\"data row14 col2\" >1</td> \n",
       "    </tr>    <tr> \n",
       "        <th id=\"T_13f20fe2_1a2b_11e9_a5ac_d4619d1ccf32level0_row15\" class=\"row_heading level0 row15\" >Rev</th> \n",
       "        <td id=\"T_13f20fe2_1a2b_11e9_a5ac_d4619d1ccf32row15_col0\" class=\"data row15 col0\" >6</td> \n",
       "        <td id=\"T_13f20fe2_1a2b_11e9_a5ac_d4619d1ccf32row15_col1\" class=\"data row15 col1\" >0</td> \n",
       "        <td id=\"T_13f20fe2_1a2b_11e9_a5ac_d4619d1ccf32row15_col2\" class=\"data row15 col2\" >6</td> \n",
       "    </tr>    <tr> \n",
       "        <th id=\"T_13f20fe2_1a2b_11e9_a5ac_d4619d1ccf32level0_row16\" class=\"row_heading level0 row16\" >Sir</th> \n",
       "        <td id=\"T_13f20fe2_1a2b_11e9_a5ac_d4619d1ccf32row16_col0\" class=\"data row16 col0\" >0</td> \n",
       "        <td id=\"T_13f20fe2_1a2b_11e9_a5ac_d4619d1ccf32row16_col1\" class=\"data row16 col1\" >1</td> \n",
       "        <td id=\"T_13f20fe2_1a2b_11e9_a5ac_d4619d1ccf32row16_col2\" class=\"data row16 col2\" >1</td> \n",
       "    </tr>    <tr> \n",
       "        <th id=\"T_13f20fe2_1a2b_11e9_a5ac_d4619d1ccf32level0_row17\" class=\"row_heading level0 row17\" >All</th> \n",
       "        <td id=\"T_13f20fe2_1a2b_11e9_a5ac_d4619d1ccf32row17_col0\" class=\"data row17 col0\" >549</td> \n",
       "        <td id=\"T_13f20fe2_1a2b_11e9_a5ac_d4619d1ccf32row17_col1\" class=\"data row17 col1\" >342</td> \n",
       "        <td id=\"T_13f20fe2_1a2b_11e9_a5ac_d4619d1ccf32row17_col2\" class=\"data row17 col2\" >891</td> \n",
       "    </tr></tbody> \n",
       "</table> "
      ],
      "text/plain": [
       "<pandas.io.formats.style.Styler at 0x108c16550>"
      ]
     },
     "execution_count": 17,
     "metadata": {},
     "output_type": "execute_result"
    }
   ],
   "source": [
    "pd.crosstab(titanic.Initials,titanic.Survived,margins=True).style.background_gradient(cmap='summer_r')"
   ]
  },
  {
   "cell_type": "code",
   "execution_count": 18,
   "metadata": {
    "collapsed": true
   },
   "outputs": [],
   "source": [
    "#Replacing inconsistencies to make the initial more intuitive to work upon and see\n",
    "#What I am basically doing is changing MLLE to Miss, MME to Miss, Dr to Mr etc. to bring back the intuitive nature for column 'Initials'\n",
    "titanic['Initials'].replace(['Mlle','Mme','Ms','Dr','Major','Lady','Countess','Jonkheer','Col','Rev','Capt','Sir','Don'],['Miss','Miss','Miss','Mr','Mr','Mrs','Mrs','Other','Other','Other','Mr','Mr','Mr'],inplace=True)"
   ]
  },
  {
   "cell_type": "code",
   "execution_count": 19,
   "metadata": {},
   "outputs": [
    {
     "data": {
      "text/plain": [
       "Initials\n",
       "Master     4.574167\n",
       "Miss      21.860000\n",
       "Mr        32.739609\n",
       "Mrs       35.981818\n",
       "Other     45.888889\n",
       "Name: Age, dtype: float64"
      ]
     },
     "execution_count": 19,
     "metadata": {},
     "output_type": "execute_result"
    }
   ],
   "source": [
    "titanic.groupby('Initials')['Age'].mean()"
   ]
  },
  {
   "cell_type": "code",
   "execution_count": 20,
   "metadata": {
    "collapsed": true
   },
   "outputs": [],
   "source": [
    "#Assigning the mean age to appropriate initials having age as null\n",
    "titanic.loc[(titanic.Age.isnull())&(titanic.Initials=='Mr'),'Age']=33\n",
    "titanic.loc[(titanic.Age.isnull())&(titanic.Initials=='Mrs'),'Age']=36\n",
    "titanic.loc[(titanic.Age.isnull())&(titanic.Initials=='Master'),'Age']=5\n",
    "titanic.loc[(titanic.Age.isnull())&(titanic.Initials=='Miss'),'Age']=22\n",
    "titanic.loc[(titanic.Age.isnull())&(titanic.Initials=='Other'),'Age']=46"
   ]
  },
  {
   "cell_type": "code",
   "execution_count": 21,
   "metadata": {},
   "outputs": [
    {
     "data": {
      "text/plain": [
       "0"
      ]
     },
     "execution_count": 21,
     "metadata": {},
     "output_type": "execute_result"
    }
   ],
   "source": [
    "titanic.Age.isnull().sum()"
   ]
  },
  {
   "cell_type": "code",
   "execution_count": 22,
   "metadata": {},
   "outputs": [
    {
     "data": {
      "image/png": "[encoded data removed]",
      "text/plain": [
       "<matplotlib.figure.Figure at 0x114b88630>"
      ]
     },
     "metadata": {},
     "output_type": "display_data"
    }
   ],
   "source": [
    "f,ax = plt.subplots(1,2,figsize=(18,7))\n",
    "#bins parameter in below statement can be changed to have more bars or lesser depending upon how you want to analyse the data\n",
    "titanic[titanic.Survived==0].Age.plot.hist(ax=ax[0],color='red',edgecolor='black',bins=20)\n",
    "ax[0].set_title('People who did not survive vs Age')\n",
    "titanic[titanic.Survived==1].Age.plot.hist(ax=ax[1],color='blue',edgecolor='black',bins=20)\n",
    "ax[1].set_title('People who survived vs Age')\n",
    "plt.show()"
   ]
  },
  {
   "cell_type": "markdown",
   "metadata": {},
   "source": [
    "People from 0 to 8 years of age seem to have been given priority, which should have been done nonetheless. Chances of survival of people in age 20-35 are also high but that might just be because people from that age group were generally more compared to people from other age group. "
   ]
  },
  {
   "cell_type": "code",
   "execution_count": 23,
   "metadata": {},
   "outputs": [
    {
     "data": {
      "image/png": "[encoded data removed]",
      "text/plain": [
       "<matplotlib.figure.Figure at 0x114951be0>"
      ]
     },
     "metadata": {},
     "output_type": "display_data"
    }
   ],
   "source": [
    "sns.factorplot('Pclass','Survived',col='Initials',data=titanic)\n",
    "plt.show()"
   ]
  },
  {
   "cell_type": "markdown",
   "metadata": {},
   "source": [
    "## 1.5 Embarked vs Survived"
   ]
  },
  {
   "cell_type": "markdown",
   "metadata": {},
   "source": [
    "Embarked is basically a column suggesting which port the people used to get on the ship. Intuitively it shouldn't be a factor to consider but as a data scientist there is no harm in looking at it. It might be that people getting on from a certain port got have a comparitive younger age, less family or any other factor that might promote or demote a good prediction ! Let's have a look :"
   ]
  },
  {
   "cell_type": "code",
   "execution_count": 24,
   "metadata": {},
   "outputs": [
    {
     "data": {
      "text/html": [
       "<style  type=\"text/css\" >\n",
       "    #T_1544696c_1a2b_11e9_b663_d4619d1ccf32row0_col0 {\n",
       "            background-color:  #fcfe66;\n",
       "        }    #T_1544696c_1a2b_11e9_b663_d4619d1ccf32row0_col1 {\n",
       "            background-color:  #d2e866;\n",
       "        }    #T_1544696c_1a2b_11e9_b663_d4619d1ccf32row0_col2 {\n",
       "            background-color:  #f2f866;\n",
       "        }    #T_1544696c_1a2b_11e9_b663_d4619d1ccf32row0_col3 {\n",
       "            background-color:  #d8ec66;\n",
       "        }    #T_1544696c_1a2b_11e9_b663_d4619d1ccf32row0_col4 {\n",
       "            background-color:  #e8f466;\n",
       "        }    #T_1544696c_1a2b_11e9_b663_d4619d1ccf32row1_col0 {\n",
       "            background-color:  #ffff66;\n",
       "        }    #T_1544696c_1a2b_11e9_b663_d4619d1ccf32row1_col1 {\n",
       "            background-color:  #f9fc66;\n",
       "        }    #T_1544696c_1a2b_11e9_b663_d4619d1ccf32row1_col2 {\n",
       "            background-color:  #fcfe66;\n",
       "        }    #T_1544696c_1a2b_11e9_b663_d4619d1ccf32row1_col3 {\n",
       "            background-color:  #fbfd66;\n",
       "        }    #T_1544696c_1a2b_11e9_b663_d4619d1ccf32row1_col4 {\n",
       "            background-color:  #fbfd66;\n",
       "        }    #T_1544696c_1a2b_11e9_b663_d4619d1ccf32row2_col0 {\n",
       "            background-color:  #e6f266;\n",
       "        }    #T_1544696c_1a2b_11e9_b663_d4619d1ccf32row2_col1 {\n",
       "            background-color:  #f0f866;\n",
       "        }    #T_1544696c_1a2b_11e9_b663_d4619d1ccf32row2_col2 {\n",
       "            background-color:  #eef666;\n",
       "        }    #T_1544696c_1a2b_11e9_b663_d4619d1ccf32row2_col3 {\n",
       "            background-color:  #e8f466;\n",
       "        }    #T_1544696c_1a2b_11e9_b663_d4619d1ccf32row2_col4 {\n",
       "            background-color:  #edf666;\n",
       "        }    #T_1544696c_1a2b_11e9_b663_d4619d1ccf32row3_col0 {\n",
       "            background-color:  #ffff66;\n",
       "        }    #T_1544696c_1a2b_11e9_b663_d4619d1ccf32row3_col1 {\n",
       "            background-color:  #ffff66;\n",
       "        }    #T_1544696c_1a2b_11e9_b663_d4619d1ccf32row3_col2 {\n",
       "            background-color:  #ffff66;\n",
       "        }    #T_1544696c_1a2b_11e9_b663_d4619d1ccf32row3_col3 {\n",
       "            background-color:  #ffff66;\n",
       "        }    #T_1544696c_1a2b_11e9_b663_d4619d1ccf32row3_col4 {\n",
       "            background-color:  #ffff66;\n",
       "        }    #T_1544696c_1a2b_11e9_b663_d4619d1ccf32row4_col0 {\n",
       "            background-color:  #ffff66;\n",
       "        }    #T_1544696c_1a2b_11e9_b663_d4619d1ccf32row4_col1 {\n",
       "            background-color:  #fefe66;\n",
       "        }    #T_1544696c_1a2b_11e9_b663_d4619d1ccf32row4_col2 {\n",
       "            background-color:  #ffff66;\n",
       "        }    #T_1544696c_1a2b_11e9_b663_d4619d1ccf32row4_col3 {\n",
       "            background-color:  #ffff66;\n",
       "        }    #T_1544696c_1a2b_11e9_b663_d4619d1ccf32row4_col4 {\n",
       "            background-color:  #ffff66;\n",
       "        }    #T_1544696c_1a2b_11e9_b663_d4619d1ccf32row5_col0 {\n",
       "            background-color:  #e3f166;\n",
       "        }    #T_1544696c_1a2b_11e9_b663_d4619d1ccf32row5_col1 {\n",
       "            background-color:  #e6f266;\n",
       "        }    #T_1544696c_1a2b_11e9_b663_d4619d1ccf32row5_col2 {\n",
       "            background-color:  #ecf666;\n",
       "        }    #T_1544696c_1a2b_11e9_b663_d4619d1ccf32row5_col3 {\n",
       "            background-color:  #f8fc66;\n",
       "        }    #T_1544696c_1a2b_11e9_b663_d4619d1ccf32row5_col4 {\n",
       "            background-color:  #ebf566;\n",
       "        }    #T_1544696c_1a2b_11e9_b663_d4619d1ccf32row6_col0 {\n",
       "            background-color:  #f9fc66;\n",
       "        }    #T_1544696c_1a2b_11e9_b663_d4619d1ccf32row6_col1 {\n",
       "            background-color:  #cde666;\n",
       "        }    #T_1544696c_1a2b_11e9_b663_d4619d1ccf32row6_col2 {\n",
       "            background-color:  #e4f266;\n",
       "        }    #T_1544696c_1a2b_11e9_b663_d4619d1ccf32row6_col3 {\n",
       "            background-color:  #bede66;\n",
       "        }    #T_1544696c_1a2b_11e9_b663_d4619d1ccf32row6_col4 {\n",
       "            background-color:  #dbed66;\n",
       "        }    #T_1544696c_1a2b_11e9_b663_d4619d1ccf32row7_col0 {\n",
       "            background-color:  #edf666;\n",
       "        }    #T_1544696c_1a2b_11e9_b663_d4619d1ccf32row7_col1 {\n",
       "            background-color:  #bdde66;\n",
       "        }    #T_1544696c_1a2b_11e9_b663_d4619d1ccf32row7_col2 {\n",
       "            background-color:  #d3e966;\n",
       "        }    #T_1544696c_1a2b_11e9_b663_d4619d1ccf32row7_col3 {\n",
       "            background-color:  #dcee66;\n",
       "        }    #T_1544696c_1a2b_11e9_b663_d4619d1ccf32row7_col4 {\n",
       "            background-color:  #d1e866;\n",
       "        }    #T_1544696c_1a2b_11e9_b663_d4619d1ccf32row8_col0 {\n",
       "            background-color:  #52a866;\n",
       "        }    #T_1544696c_1a2b_11e9_b663_d4619d1ccf32row8_col1 {\n",
       "            background-color:  #dcee66;\n",
       "        }    #T_1544696c_1a2b_11e9_b663_d4619d1ccf32row8_col2 {\n",
       "            background-color:  #81c066;\n",
       "        }    #T_1544696c_1a2b_11e9_b663_d4619d1ccf32row8_col3 {\n",
       "            background-color:  #b0d866;\n",
       "        }    #T_1544696c_1a2b_11e9_b663_d4619d1ccf32row8_col4 {\n",
       "            background-color:  #9acc66;\n",
       "        }    #T_1544696c_1a2b_11e9_b663_d4619d1ccf32row9_col0 {\n",
       "            background-color:  #008066;\n",
       "        }    #T_1544696c_1a2b_11e9_b663_d4619d1ccf32row9_col1 {\n",
       "            background-color:  #008066;\n",
       "        }    #T_1544696c_1a2b_11e9_b663_d4619d1ccf32row9_col2 {\n",
       "            background-color:  #008066;\n",
       "        }    #T_1544696c_1a2b_11e9_b663_d4619d1ccf32row9_col3 {\n",
       "            background-color:  #008066;\n",
       "        }    #T_1544696c_1a2b_11e9_b663_d4619d1ccf32row9_col4 {\n",
       "            background-color:  #008066;\n",
       "        }</style>  \n",
       "<table id=\"T_1544696c_1a2b_11e9_b663_d4619d1ccf32\" > \n",
       "<thead>    <tr> \n",
       "        <th class=\"blank\" ></th> \n",
       "        <th class=\"index_name level0\" >Sex</th> \n",
       "        <th class=\"col_heading level0 col0\" colspan=2>female</th> \n",
       "        <th class=\"col_heading level0 col2\" colspan=2>male</th> \n",
       "        <th class=\"col_heading level0 col4\" >All</th> \n",
       "    </tr>    <tr> \n",
       "        <th class=\"blank\" ></th> \n",
       "        <th class=\"index_name level1\" >Survived</th> \n",
       "        <th class=\"col_heading level1 col0\" >0</th> \n",
       "        <th class=\"col_heading level1 col1\" >1</th> \n",
       "        <th class=\"col_heading level1 col2\" >0</th> \n",
       "        <th class=\"col_heading level1 col3\" >1</th> \n",
       "        <th class=\"col_heading level1 col4\" ></th> \n",
       "    </tr>    <tr> \n",
       "        <th class=\"index_name level0\" >Embarked</th> \n",
       "        <th class=\"index_name level1\" >Pclass</th> \n",
       "        <th class=\"blank\" ></th> \n",
       "        <th class=\"blank\" ></th> \n",
       "        <th class=\"blank\" ></th> \n",
       "        <th class=\"blank\" ></th> \n",
       "        <th class=\"blank\" ></th> \n",
       "    </tr></thead> \n",
       "<tbody>    <tr> \n",
       "        <th id=\"T_1544696c_1a2b_11e9_b663_d4619d1ccf32level0_row0\" class=\"row_heading level0 row0\" rowspan=3>C</th> \n",
       "        <th id=\"T_1544696c_1a2b_11e9_b663_d4619d1ccf32level1_row0\" class=\"row_heading level1 row0\" >1</th> \n",
       "        <td id=\"T_1544696c_1a2b_11e9_b663_d4619d1ccf32row0_col0\" class=\"data row0 col0\" >1</td> \n",
       "        <td id=\"T_1544696c_1a2b_11e9_b663_d4619d1ccf32row0_col1\" class=\"data row0 col1\" >42</td> \n",
       "        <td id=\"T_1544696c_1a2b_11e9_b663_d4619d1ccf32row0_col2\" class=\"data row0 col2\" >25</td> \n",
       "        <td id=\"T_1544696c_1a2b_11e9_b663_d4619d1ccf32row0_col3\" class=\"data row0 col3\" >17</td> \n",
       "        <td id=\"T_1544696c_1a2b_11e9_b663_d4619d1ccf32row0_col4\" class=\"data row0 col4\" >85</td> \n",
       "    </tr>    <tr> \n",
       "        <th id=\"T_1544696c_1a2b_11e9_b663_d4619d1ccf32level1_row1\" class=\"row_heading level1 row1\" >2</th> \n",
       "        <td id=\"T_1544696c_1a2b_11e9_b663_d4619d1ccf32row1_col0\" class=\"data row1 col0\" >0</td> \n",
       "        <td id=\"T_1544696c_1a2b_11e9_b663_d4619d1ccf32row1_col1\" class=\"data row1 col1\" >7</td> \n",
       "        <td id=\"T_1544696c_1a2b_11e9_b663_d4619d1ccf32row1_col2\" class=\"data row1 col2\" >8</td> \n",
       "        <td id=\"T_1544696c_1a2b_11e9_b663_d4619d1ccf32row1_col3\" class=\"data row1 col3\" >2</td> \n",
       "        <td id=\"T_1544696c_1a2b_11e9_b663_d4619d1ccf32row1_col4\" class=\"data row1 col4\" >17</td> \n",
       "    </tr>    <tr> \n",
       "        <th id=\"T_1544696c_1a2b_11e9_b663_d4619d1ccf32level1_row2\" class=\"row_heading level1 row2\" >3</th> \n",
       "        <td id=\"T_1544696c_1a2b_11e9_b663_d4619d1ccf32row2_col0\" class=\"data row2 col0\" >8</td> \n",
       "        <td id=\"T_1544696c_1a2b_11e9_b663_d4619d1ccf32row2_col1\" class=\"data row2 col1\" >15</td> \n",
       "        <td id=\"T_1544696c_1a2b_11e9_b663_d4619d1ccf32row2_col2\" class=\"data row2 col2\" >33</td> \n",
       "        <td id=\"T_1544696c_1a2b_11e9_b663_d4619d1ccf32row2_col3\" class=\"data row2 col3\" >10</td> \n",
       "        <td id=\"T_1544696c_1a2b_11e9_b663_d4619d1ccf32row2_col4\" class=\"data row2 col4\" >66</td> \n",
       "    </tr>    <tr> \n",
       "        <th id=\"T_1544696c_1a2b_11e9_b663_d4619d1ccf32level0_row3\" class=\"row_heading level0 row3\" rowspan=3>Q</th> \n",
       "        <th id=\"T_1544696c_1a2b_11e9_b663_d4619d1ccf32level1_row3\" class=\"row_heading level1 row3\" >1</th> \n",
       "        <td id=\"T_1544696c_1a2b_11e9_b663_d4619d1ccf32row3_col0\" class=\"data row3 col0\" >0</td> \n",
       "        <td id=\"T_1544696c_1a2b_11e9_b663_d4619d1ccf32row3_col1\" class=\"data row3 col1\" >1</td> \n",
       "        <td id=\"T_1544696c_1a2b_11e9_b663_d4619d1ccf32row3_col2\" class=\"data row3 col2\" >1</td> \n",
       "        <td id=\"T_1544696c_1a2b_11e9_b663_d4619d1ccf32row3_col3\" class=\"data row3 col3\" >0</td> \n",
       "        <td id=\"T_1544696c_1a2b_11e9_b663_d4619d1ccf32row3_col4\" class=\"data row3 col4\" >2</td> \n",
       "    </tr>    <tr> \n",
       "        <th id=\"T_1544696c_1a2b_11e9_b663_d4619d1ccf32level1_row4\" class=\"row_heading level1 row4\" >2</th> \n",
       "        <td id=\"T_1544696c_1a2b_11e9_b663_d4619d1ccf32row4_col0\" class=\"data row4 col0\" >0</td> \n",
       "        <td id=\"T_1544696c_1a2b_11e9_b663_d4619d1ccf32row4_col1\" class=\"data row4 col1\" >2</td> \n",
       "        <td id=\"T_1544696c_1a2b_11e9_b663_d4619d1ccf32row4_col2\" class=\"data row4 col2\" >1</td> \n",
       "        <td id=\"T_1544696c_1a2b_11e9_b663_d4619d1ccf32row4_col3\" class=\"data row4 col3\" >0</td> \n",
       "        <td id=\"T_1544696c_1a2b_11e9_b663_d4619d1ccf32row4_col4\" class=\"data row4 col4\" >3</td> \n",
       "    </tr>    <tr> \n",
       "        <th id=\"T_1544696c_1a2b_11e9_b663_d4619d1ccf32level1_row5\" class=\"row_heading level1 row5\" >3</th> \n",
       "        <td id=\"T_1544696c_1a2b_11e9_b663_d4619d1ccf32row5_col0\" class=\"data row5 col0\" >9</td> \n",
       "        <td id=\"T_1544696c_1a2b_11e9_b663_d4619d1ccf32row5_col1\" class=\"data row5 col1\" >24</td> \n",
       "        <td id=\"T_1544696c_1a2b_11e9_b663_d4619d1ccf32row5_col2\" class=\"data row5 col2\" >36</td> \n",
       "        <td id=\"T_1544696c_1a2b_11e9_b663_d4619d1ccf32row5_col3\" class=\"data row5 col3\" >3</td> \n",
       "        <td id=\"T_1544696c_1a2b_11e9_b663_d4619d1ccf32row5_col4\" class=\"data row5 col4\" >72</td> \n",
       "    </tr>    <tr> \n",
       "        <th id=\"T_1544696c_1a2b_11e9_b663_d4619d1ccf32level0_row6\" class=\"row_heading level0 row6\" rowspan=3>S</th> \n",
       "        <th id=\"T_1544696c_1a2b_11e9_b663_d4619d1ccf32level1_row6\" class=\"row_heading level1 row6\" >1</th> \n",
       "        <td id=\"T_1544696c_1a2b_11e9_b663_d4619d1ccf32row6_col0\" class=\"data row6 col0\" >2</td> \n",
       "        <td id=\"T_1544696c_1a2b_11e9_b663_d4619d1ccf32row6_col1\" class=\"data row6 col1\" >46</td> \n",
       "        <td id=\"T_1544696c_1a2b_11e9_b663_d4619d1ccf32row6_col2\" class=\"data row6 col2\" >51</td> \n",
       "        <td id=\"T_1544696c_1a2b_11e9_b663_d4619d1ccf32row6_col3\" class=\"data row6 col3\" >28</td> \n",
       "        <td id=\"T_1544696c_1a2b_11e9_b663_d4619d1ccf32row6_col4\" class=\"data row6 col4\" >127</td> \n",
       "    </tr>    <tr> \n",
       "        <th id=\"T_1544696c_1a2b_11e9_b663_d4619d1ccf32level1_row7\" class=\"row_heading level1 row7\" >2</th> \n",
       "        <td id=\"T_1544696c_1a2b_11e9_b663_d4619d1ccf32row7_col0\" class=\"data row7 col0\" >6</td> \n",
       "        <td id=\"T_1544696c_1a2b_11e9_b663_d4619d1ccf32row7_col1\" class=\"data row7 col1\" >61</td> \n",
       "        <td id=\"T_1544696c_1a2b_11e9_b663_d4619d1ccf32row7_col2\" class=\"data row7 col2\" >82</td> \n",
       "        <td id=\"T_1544696c_1a2b_11e9_b663_d4619d1ccf32row7_col3\" class=\"data row7 col3\" >15</td> \n",
       "        <td id=\"T_1544696c_1a2b_11e9_b663_d4619d1ccf32row7_col4\" class=\"data row7 col4\" >164</td> \n",
       "    </tr>    <tr> \n",
       "        <th id=\"T_1544696c_1a2b_11e9_b663_d4619d1ccf32level1_row8\" class=\"row_heading level1 row8\" >3</th> \n",
       "        <td id=\"T_1544696c_1a2b_11e9_b663_d4619d1ccf32row8_col0\" class=\"data row8 col0\" >55</td> \n",
       "        <td id=\"T_1544696c_1a2b_11e9_b663_d4619d1ccf32row8_col1\" class=\"data row8 col1\" >33</td> \n",
       "        <td id=\"T_1544696c_1a2b_11e9_b663_d4619d1ccf32row8_col2\" class=\"data row8 col2\" >231</td> \n",
       "        <td id=\"T_1544696c_1a2b_11e9_b663_d4619d1ccf32row8_col3\" class=\"data row8 col3\" >34</td> \n",
       "        <td id=\"T_1544696c_1a2b_11e9_b663_d4619d1ccf32row8_col4\" class=\"data row8 col4\" >353</td> \n",
       "    </tr>    <tr> \n",
       "        <th id=\"T_1544696c_1a2b_11e9_b663_d4619d1ccf32level0_row9\" class=\"row_heading level0 row9\" >All</th> \n",
       "        <th id=\"T_1544696c_1a2b_11e9_b663_d4619d1ccf32level1_row9\" class=\"row_heading level1 row9\" ></th> \n",
       "        <td id=\"T_1544696c_1a2b_11e9_b663_d4619d1ccf32row9_col0\" class=\"data row9 col0\" >81</td> \n",
       "        <td id=\"T_1544696c_1a2b_11e9_b663_d4619d1ccf32row9_col1\" class=\"data row9 col1\" >231</td> \n",
       "        <td id=\"T_1544696c_1a2b_11e9_b663_d4619d1ccf32row9_col2\" class=\"data row9 col2\" >468</td> \n",
       "        <td id=\"T_1544696c_1a2b_11e9_b663_d4619d1ccf32row9_col3\" class=\"data row9 col3\" >109</td> \n",
       "        <td id=\"T_1544696c_1a2b_11e9_b663_d4619d1ccf32row9_col4\" class=\"data row9 col4\" >889</td> \n",
       "    </tr></tbody> \n",
       "</table> "
      ],
      "text/plain": [
       "<pandas.io.formats.style.Styler at 0x114aa6160>"
      ]
     },
     "execution_count": 24,
     "metadata": {},
     "output_type": "execute_result"
    }
   ],
   "source": [
    "pd.crosstab([titanic.Embarked,titanic.Pclass],[titanic.Sex,titanic.Survived],margins=True).style.background_gradient(cmap='summer_r')"
   ]
  },
  {
   "cell_type": "code",
   "execution_count": 25,
   "metadata": {},
   "outputs": [
    {
     "data": {
      "image/png": "[encoded data removed]",
      "text/plain": [
       "<matplotlib.figure.Figure at 0x114bb9eb8>"
      ]
     },
     "metadata": {},
     "output_type": "display_data"
    }
   ],
   "source": [
    "sns.factorplot('Embarked','Survived',data=titanic)\n",
    "plt.show()"
   ]
  },
  {
   "cell_type": "markdown",
   "metadata": {
    "collapsed": true
   },
   "source": [
    "C class survived the most (People who got on C port) ! That might not have been intuitive seeing the Embarked column but it seems to be working great and we may even use it in our final model !"
   ]
  },
  {
   "cell_type": "code",
   "execution_count": 26,
   "metadata": {},
   "outputs": [
    {
     "data": {
      "text/plain": [
       "2"
      ]
     },
     "execution_count": 26,
     "metadata": {},
     "output_type": "execute_result"
    }
   ],
   "source": [
    "titanic.Embarked.isnull().sum()"
   ]
  },
  {
   "cell_type": "code",
   "execution_count": 27,
   "metadata": {},
   "outputs": [
    {
     "data": {
      "text/plain": [
       "S    644\n",
       "C    168\n",
       "Q     77\n",
       "Name: Embarked, dtype: int64"
      ]
     },
     "execution_count": 27,
     "metadata": {},
     "output_type": "execute_result"
    }
   ],
   "source": [
    "titanic.Embarked.value_counts() "
   ]
  },
  {
   "cell_type": "markdown",
   "metadata": {
    "collapsed": true
   },
   "source": [
    "Maximum Class is S hence I won't be doing much calculations for just 2 null values"
   ]
  },
  {
   "cell_type": "code",
   "execution_count": 28,
   "metadata": {
    "collapsed": true
   },
   "outputs": [],
   "source": [
    "titanic['Embarked'].fillna('S',inplace=True)"
   ]
  },
  {
   "cell_type": "code",
   "execution_count": 29,
   "metadata": {},
   "outputs": [
    {
     "data": {
      "text/plain": [
       "PassengerId      0\n",
       "Survived         0\n",
       "Pclass           0\n",
       "Name             0\n",
       "Sex              0\n",
       "Age              0\n",
       "SibSp            0\n",
       "Parch            0\n",
       "Ticket           0\n",
       "Fare             0\n",
       "Cabin          687\n",
       "Embarked         0\n",
       "Initials         0\n",
       "dtype: int64"
      ]
     },
     "execution_count": 29,
     "metadata": {},
     "output_type": "execute_result"
    }
   ],
   "source": [
    "titanic.isnull().sum()"
   ]
  },
  {
   "cell_type": "markdown",
   "metadata": {
    "collapsed": true
   },
   "source": [
    "Cabin seems like the column which should be dropped(as discussed above) since we can't actually determine cabin category for 77% of the data"
   ]
  },
  {
   "cell_type": "markdown",
   "metadata": {},
   "source": [
    "## 1.6 SibSp vs Survived"
   ]
  },
  {
   "cell_type": "markdown",
   "metadata": {},
   "source": [
    "SibSp represents number of spouses and siblings present on the ship. Now for obvious reasons having family aboard the ship would maybe bound you to excape easily or promote the entire family's survival as a single unit. I mean as Captain America said : We fight together and if we have to loose, we'll do that together too !"
   ]
  },
  {
   "cell_type": "code",
   "execution_count": 30,
   "metadata": {},
   "outputs": [
    {
     "data": {
      "text/html": [
       "<style  type=\"text/css\" >\n",
       "    #T_1588d4ba_1a2b_11e9_85cf_d4619d1ccf32row0_col0 {\n",
       "            background-color:  #008066;\n",
       "        }    #T_1588d4ba_1a2b_11e9_85cf_d4619d1ccf32row0_col1 {\n",
       "            background-color:  #008066;\n",
       "        }    #T_1588d4ba_1a2b_11e9_85cf_d4619d1ccf32row1_col0 {\n",
       "            background-color:  #c4e266;\n",
       "        }    #T_1588d4ba_1a2b_11e9_85cf_d4619d1ccf32row1_col1 {\n",
       "            background-color:  #77bb66;\n",
       "        }    #T_1588d4ba_1a2b_11e9_85cf_d4619d1ccf32row2_col0 {\n",
       "            background-color:  #f9fc66;\n",
       "        }    #T_1588d4ba_1a2b_11e9_85cf_d4619d1ccf32row2_col1 {\n",
       "            background-color:  #f0f866;\n",
       "        }    #T_1588d4ba_1a2b_11e9_85cf_d4619d1ccf32row3_col0 {\n",
       "            background-color:  #fbfd66;\n",
       "        }    #T_1588d4ba_1a2b_11e9_85cf_d4619d1ccf32row3_col1 {\n",
       "            background-color:  #fbfd66;\n",
       "        }    #T_1588d4ba_1a2b_11e9_85cf_d4619d1ccf32row4_col0 {\n",
       "            background-color:  #f9fc66;\n",
       "        }    #T_1588d4ba_1a2b_11e9_85cf_d4619d1ccf32row4_col1 {\n",
       "            background-color:  #fcfe66;\n",
       "        }    #T_1588d4ba_1a2b_11e9_85cf_d4619d1ccf32row5_col0 {\n",
       "            background-color:  #ffff66;\n",
       "        }    #T_1588d4ba_1a2b_11e9_85cf_d4619d1ccf32row5_col1 {\n",
       "            background-color:  #ffff66;\n",
       "        }    #T_1588d4ba_1a2b_11e9_85cf_d4619d1ccf32row6_col0 {\n",
       "            background-color:  #fefe66;\n",
       "        }    #T_1588d4ba_1a2b_11e9_85cf_d4619d1ccf32row6_col1 {\n",
       "            background-color:  #ffff66;\n",
       "        }</style>  \n",
       "<table id=\"T_1588d4ba_1a2b_11e9_85cf_d4619d1ccf32\" > \n",
       "<thead>    <tr> \n",
       "        <th class=\"index_name level0\" >Survived</th> \n",
       "        <th class=\"col_heading level0 col0\" >0</th> \n",
       "        <th class=\"col_heading level0 col1\" >1</th> \n",
       "    </tr>    <tr> \n",
       "        <th class=\"index_name level0\" >SibSp</th> \n",
       "        <th class=\"blank\" ></th> \n",
       "        <th class=\"blank\" ></th> \n",
       "    </tr></thead> \n",
       "<tbody>    <tr> \n",
       "        <th id=\"T_1588d4ba_1a2b_11e9_85cf_d4619d1ccf32level0_row0\" class=\"row_heading level0 row0\" >0</th> \n",
       "        <td id=\"T_1588d4ba_1a2b_11e9_85cf_d4619d1ccf32row0_col0\" class=\"data row0 col0\" >398</td> \n",
       "        <td id=\"T_1588d4ba_1a2b_11e9_85cf_d4619d1ccf32row0_col1\" class=\"data row0 col1\" >210</td> \n",
       "    </tr>    <tr> \n",
       "        <th id=\"T_1588d4ba_1a2b_11e9_85cf_d4619d1ccf32level0_row1\" class=\"row_heading level0 row1\" >1</th> \n",
       "        <td id=\"T_1588d4ba_1a2b_11e9_85cf_d4619d1ccf32row1_col0\" class=\"data row1 col0\" >97</td> \n",
       "        <td id=\"T_1588d4ba_1a2b_11e9_85cf_d4619d1ccf32row1_col1\" class=\"data row1 col1\" >112</td> \n",
       "    </tr>    <tr> \n",
       "        <th id=\"T_1588d4ba_1a2b_11e9_85cf_d4619d1ccf32level0_row2\" class=\"row_heading level0 row2\" >2</th> \n",
       "        <td id=\"T_1588d4ba_1a2b_11e9_85cf_d4619d1ccf32row2_col0\" class=\"data row2 col0\" >15</td> \n",
       "        <td id=\"T_1588d4ba_1a2b_11e9_85cf_d4619d1ccf32row2_col1\" class=\"data row2 col1\" >13</td> \n",
       "    </tr>    <tr> \n",
       "        <th id=\"T_1588d4ba_1a2b_11e9_85cf_d4619d1ccf32level0_row3\" class=\"row_heading level0 row3\" >3</th> \n",
       "        <td id=\"T_1588d4ba_1a2b_11e9_85cf_d4619d1ccf32row3_col0\" class=\"data row3 col0\" >12</td> \n",
       "        <td id=\"T_1588d4ba_1a2b_11e9_85cf_d4619d1ccf32row3_col1\" class=\"data row3 col1\" >4</td> \n",
       "    </tr>    <tr> \n",
       "        <th id=\"T_1588d4ba_1a2b_11e9_85cf_d4619d1ccf32level0_row4\" class=\"row_heading level0 row4\" >4</th> \n",
       "        <td id=\"T_1588d4ba_1a2b_11e9_85cf_d4619d1ccf32row4_col0\" class=\"data row4 col0\" >15</td> \n",
       "        <td id=\"T_1588d4ba_1a2b_11e9_85cf_d4619d1ccf32row4_col1\" class=\"data row4 col1\" >3</td> \n",
       "    </tr>    <tr> \n",
       "        <th id=\"T_1588d4ba_1a2b_11e9_85cf_d4619d1ccf32level0_row5\" class=\"row_heading level0 row5\" >5</th> \n",
       "        <td id=\"T_1588d4ba_1a2b_11e9_85cf_d4619d1ccf32row5_col0\" class=\"data row5 col0\" >5</td> \n",
       "        <td id=\"T_1588d4ba_1a2b_11e9_85cf_d4619d1ccf32row5_col1\" class=\"data row5 col1\" >0</td> \n",
       "    </tr>    <tr> \n",
       "        <th id=\"T_1588d4ba_1a2b_11e9_85cf_d4619d1ccf32level0_row6\" class=\"row_heading level0 row6\" >8</th> \n",
       "        <td id=\"T_1588d4ba_1a2b_11e9_85cf_d4619d1ccf32row6_col0\" class=\"data row6 col0\" >7</td> \n",
       "        <td id=\"T_1588d4ba_1a2b_11e9_85cf_d4619d1ccf32row6_col1\" class=\"data row6 col1\" >0</td> \n",
       "    </tr></tbody> \n",
       "</table> "
      ],
      "text/plain": [
       "<pandas.io.formats.style.Styler at 0x1154f71d0>"
      ]
     },
     "execution_count": 30,
     "metadata": {},
     "output_type": "execute_result"
    }
   ],
   "source": [
    "pd.crosstab([titanic.SibSp],titanic.Survived).style.background_gradient(cmap='summer_r')"
   ]
  },
  {
   "cell_type": "markdown",
   "metadata": {
    "collapsed": true
   },
   "source": [
    "People who had no relatives or very less siblings survived the most !"
   ]
  },
  {
   "cell_type": "code",
   "execution_count": 31,
   "metadata": {},
   "outputs": [
    {
     "data": {
      "image/png": "[encoded data removed]",
      "text/plain": [
       "<matplotlib.figure.Figure at 0x114aa6080>"
      ]
     },
     "metadata": {},
     "output_type": "display_data"
    }
   ],
   "source": [
    "f,ax=plt.subplots(1,2,figsize=(20,8))\n",
    "sns.barplot('SibSp','Survived',data=titanic,ax=ax[0])\n",
    "ax[0].set_title('SibSp vs Survived')\n",
    "sns.factorplot('SibSp','Survived',data=titanic,ax=ax[1])\n",
    "ax[1].set_title('SibSp vs Survived')\n",
    "plt.close(2)\n",
    "plt.show()\n",
    "#Remember the two graphs barplot and factorplot pretty much represent the same information !"
   ]
  },
  {
   "cell_type": "markdown",
   "metadata": {},
   "source": [
    "Having more than 3 siblings/spouses the chances of survival reduce drastically which makes sense since you can't leave them and you can't board with all of them at the same time !"
   ]
  },
  {
   "cell_type": "markdown",
   "metadata": {},
   "source": [
    "## 1.7 Parch vs Survived"
   ]
  },
  {
   "cell_type": "markdown",
   "metadata": {},
   "source": [
    "Parch represents pretty much the same thing as SipSb but this time it's parents and children. So I would use pretty much the same information and ways to get insights as in SipSb !"
   ]
  },
  {
   "cell_type": "code",
   "execution_count": 32,
   "metadata": {},
   "outputs": [
    {
     "data": {
      "text/html": [
       "<style  type=\"text/css\" >\n",
       "    #T_161d32c6_1a2b_11e9_8847_d4619d1ccf32row0_col0 {\n",
       "            background-color:  #008066;\n",
       "        }    #T_161d32c6_1a2b_11e9_8847_d4619d1ccf32row0_col1 {\n",
       "            background-color:  #008066;\n",
       "        }    #T_161d32c6_1a2b_11e9_8847_d4619d1ccf32row0_col2 {\n",
       "            background-color:  #008066;\n",
       "        }    #T_161d32c6_1a2b_11e9_8847_d4619d1ccf32row1_col0 {\n",
       "            background-color:  #cfe766;\n",
       "        }    #T_161d32c6_1a2b_11e9_8847_d4619d1ccf32row1_col1 {\n",
       "            background-color:  #c2e066;\n",
       "        }    #T_161d32c6_1a2b_11e9_8847_d4619d1ccf32row1_col2 {\n",
       "            background-color:  #dbed66;\n",
       "        }    #T_161d32c6_1a2b_11e9_8847_d4619d1ccf32row2_col0 {\n",
       "            background-color:  #dfef66;\n",
       "        }    #T_161d32c6_1a2b_11e9_8847_d4619d1ccf32row2_col1 {\n",
       "            background-color:  #e1f066;\n",
       "        }    #T_161d32c6_1a2b_11e9_8847_d4619d1ccf32row2_col2 {\n",
       "            background-color:  #e3f166;\n",
       "        }    #T_161d32c6_1a2b_11e9_8847_d4619d1ccf32row3_col0 {\n",
       "            background-color:  #ffff66;\n",
       "        }    #T_161d32c6_1a2b_11e9_8847_d4619d1ccf32row3_col1 {\n",
       "            background-color:  #fcfe66;\n",
       "        }    #T_161d32c6_1a2b_11e9_8847_d4619d1ccf32row3_col2 {\n",
       "            background-color:  #fefe66;\n",
       "        }    #T_161d32c6_1a2b_11e9_8847_d4619d1ccf32row4_col0 {\n",
       "            background-color:  #fefe66;\n",
       "        }    #T_161d32c6_1a2b_11e9_8847_d4619d1ccf32row4_col1 {\n",
       "            background-color:  #ffff66;\n",
       "        }    #T_161d32c6_1a2b_11e9_8847_d4619d1ccf32row4_col2 {\n",
       "            background-color:  #fefe66;\n",
       "        }    #T_161d32c6_1a2b_11e9_8847_d4619d1ccf32row5_col0 {\n",
       "            background-color:  #ffff66;\n",
       "        }    #T_161d32c6_1a2b_11e9_8847_d4619d1ccf32row5_col1 {\n",
       "            background-color:  #ffff66;\n",
       "        }    #T_161d32c6_1a2b_11e9_8847_d4619d1ccf32row5_col2 {\n",
       "            background-color:  #fdfe66;\n",
       "        }    #T_161d32c6_1a2b_11e9_8847_d4619d1ccf32row6_col0 {\n",
       "            background-color:  #ffff66;\n",
       "        }    #T_161d32c6_1a2b_11e9_8847_d4619d1ccf32row6_col1 {\n",
       "            background-color:  #ffff66;\n",
       "        }    #T_161d32c6_1a2b_11e9_8847_d4619d1ccf32row6_col2 {\n",
       "            background-color:  #ffff66;\n",
       "        }</style>  \n",
       "<table id=\"T_161d32c6_1a2b_11e9_8847_d4619d1ccf32\" > \n",
       "<thead>    <tr> \n",
       "        <th class=\"index_name level0\" >Pclass</th> \n",
       "        <th class=\"col_heading level0 col0\" >1</th> \n",
       "        <th class=\"col_heading level0 col1\" >2</th> \n",
       "        <th class=\"col_heading level0 col2\" >3</th> \n",
       "    </tr>    <tr> \n",
       "        <th class=\"index_name level0\" >Parch</th> \n",
       "        <th class=\"blank\" ></th> \n",
       "        <th class=\"blank\" ></th> \n",
       "        <th class=\"blank\" ></th> \n",
       "    </tr></thead> \n",
       "<tbody>    <tr> \n",
       "        <th id=\"T_161d32c6_1a2b_11e9_8847_d4619d1ccf32level0_row0\" class=\"row_heading level0 row0\" >0</th> \n",
       "        <td id=\"T_161d32c6_1a2b_11e9_8847_d4619d1ccf32row0_col0\" class=\"data row0 col0\" >163</td> \n",
       "        <td id=\"T_161d32c6_1a2b_11e9_8847_d4619d1ccf32row0_col1\" class=\"data row0 col1\" >134</td> \n",
       "        <td id=\"T_161d32c6_1a2b_11e9_8847_d4619d1ccf32row0_col2\" class=\"data row0 col2\" >381</td> \n",
       "    </tr>    <tr> \n",
       "        <th id=\"T_161d32c6_1a2b_11e9_8847_d4619d1ccf32level0_row1\" class=\"row_heading level0 row1\" >1</th> \n",
       "        <td id=\"T_161d32c6_1a2b_11e9_8847_d4619d1ccf32row1_col0\" class=\"data row1 col0\" >31</td> \n",
       "        <td id=\"T_161d32c6_1a2b_11e9_8847_d4619d1ccf32row1_col1\" class=\"data row1 col1\" >32</td> \n",
       "        <td id=\"T_161d32c6_1a2b_11e9_8847_d4619d1ccf32row1_col2\" class=\"data row1 col2\" >55</td> \n",
       "    </tr>    <tr> \n",
       "        <th id=\"T_161d32c6_1a2b_11e9_8847_d4619d1ccf32level0_row2\" class=\"row_heading level0 row2\" >2</th> \n",
       "        <td id=\"T_161d32c6_1a2b_11e9_8847_d4619d1ccf32row2_col0\" class=\"data row2 col0\" >21</td> \n",
       "        <td id=\"T_161d32c6_1a2b_11e9_8847_d4619d1ccf32row2_col1\" class=\"data row2 col1\" >16</td> \n",
       "        <td id=\"T_161d32c6_1a2b_11e9_8847_d4619d1ccf32row2_col2\" class=\"data row2 col2\" >43</td> \n",
       "    </tr>    <tr> \n",
       "        <th id=\"T_161d32c6_1a2b_11e9_8847_d4619d1ccf32level0_row3\" class=\"row_heading level0 row3\" >3</th> \n",
       "        <td id=\"T_161d32c6_1a2b_11e9_8847_d4619d1ccf32row3_col0\" class=\"data row3 col0\" >0</td> \n",
       "        <td id=\"T_161d32c6_1a2b_11e9_8847_d4619d1ccf32row3_col1\" class=\"data row3 col1\" >2</td> \n",
       "        <td id=\"T_161d32c6_1a2b_11e9_8847_d4619d1ccf32row3_col2\" class=\"data row3 col2\" >3</td> \n",
       "    </tr>    <tr> \n",
       "        <th id=\"T_161d32c6_1a2b_11e9_8847_d4619d1ccf32level0_row4\" class=\"row_heading level0 row4\" >4</th> \n",
       "        <td id=\"T_161d32c6_1a2b_11e9_8847_d4619d1ccf32row4_col0\" class=\"data row4 col0\" >1</td> \n",
       "        <td id=\"T_161d32c6_1a2b_11e9_8847_d4619d1ccf32row4_col1\" class=\"data row4 col1\" >0</td> \n",
       "        <td id=\"T_161d32c6_1a2b_11e9_8847_d4619d1ccf32row4_col2\" class=\"data row4 col2\" >3</td> \n",
       "    </tr>    <tr> \n",
       "        <th id=\"T_161d32c6_1a2b_11e9_8847_d4619d1ccf32level0_row5\" class=\"row_heading level0 row5\" >5</th> \n",
       "        <td id=\"T_161d32c6_1a2b_11e9_8847_d4619d1ccf32row5_col0\" class=\"data row5 col0\" >0</td> \n",
       "        <td id=\"T_161d32c6_1a2b_11e9_8847_d4619d1ccf32row5_col1\" class=\"data row5 col1\" >0</td> \n",
       "        <td id=\"T_161d32c6_1a2b_11e9_8847_d4619d1ccf32row5_col2\" class=\"data row5 col2\" >5</td> \n",
       "    </tr>    <tr> \n",
       "        <th id=\"T_161d32c6_1a2b_11e9_8847_d4619d1ccf32level0_row6\" class=\"row_heading level0 row6\" >6</th> \n",
       "        <td id=\"T_161d32c6_1a2b_11e9_8847_d4619d1ccf32row6_col0\" class=\"data row6 col0\" >0</td> \n",
       "        <td id=\"T_161d32c6_1a2b_11e9_8847_d4619d1ccf32row6_col1\" class=\"data row6 col1\" >0</td> \n",
       "        <td id=\"T_161d32c6_1a2b_11e9_8847_d4619d1ccf32row6_col2\" class=\"data row6 col2\" >1</td> \n",
       "    </tr></tbody> \n",
       "</table> "
      ],
      "text/plain": [
       "<pandas.io.formats.style.Styler at 0x114c969b0>"
      ]
     },
     "execution_count": 32,
     "metadata": {},
     "output_type": "execute_result"
    }
   ],
   "source": [
    "pd.crosstab(titanic.Parch,titanic.Pclass).style.background_gradient(cmap='summer_r')"
   ]
  },
  {
   "cell_type": "code",
   "execution_count": 33,
   "metadata": {},
   "outputs": [
    {
     "data": {
      "image/png": "[encoded data removed]",
      "text/plain": [
       "<matplotlib.figure.Figure at 0x1158ebc88>"
      ]
     },
     "metadata": {},
     "output_type": "display_data"
    }
   ],
   "source": [
    "f,ax=plt.subplots(1,2,figsize=(20,8))\n",
    "sns.barplot('Parch','Survived',data=titanic,ax=ax[0])\n",
    "ax[0].set_title('Parch vs Survived')\n",
    "sns.factorplot('Parch','Survived',data=titanic,ax=ax[1])\n",
    "ax[1].set_title('Parch vs Survived')\n",
    "plt.close(2)\n",
    "plt.show()"
   ]
  },
  {
   "cell_type": "markdown",
   "metadata": {},
   "source": [
    "## 1.8 Fare vs Survived"
   ]
  },
  {
   "cell_type": "markdown",
   "metadata": {},
   "source": [
    "In this part I am basically comparing fare prices to their respective Pclass !"
   ]
  },
  {
   "cell_type": "code",
   "execution_count": 34,
   "metadata": {},
   "outputs": [
    {
     "data": {
      "image/png": "[encoded data removed]",
      "text/plain": [
       "<matplotlib.figure.Figure at 0x115fcc3c8>"
      ]
     },
     "metadata": {},
     "output_type": "display_data"
    }
   ],
   "source": [
    "f,ax=plt.subplots(1,3,figsize=(20,8))\n",
    "sns.distplot(titanic[titanic['Pclass']==1].Fare,ax=ax[0])\n",
    "ax[0].set_title('Fares in Pclass 1')\n",
    "sns.distplot(titanic[titanic['Pclass']==2].Fare,ax=ax[1])\n",
    "ax[1].set_title('Fares in Pclass 2')\n",
    "sns.distplot(titanic[titanic['Pclass']==3].Fare,ax=ax[2])\n",
    "ax[2].set_title('Fares in Pclass 3')\n",
    "plt.show()\n",
    "#If you end up wondering what the lines are in the bar plots, they are the probability distribution function !"
   ]
  },
  {
   "cell_type": "markdown",
   "metadata": {},
   "source": [
    "# Correlation of variables"
   ]
  },
  {
   "cell_type": "markdown",
   "metadata": {},
   "source": [
    "Correlation is an important factor to consider while developing a model !\n",
    "Correlation can be seen as how one variable (in this case, value of one column) might be related to another (value of another column)."
   ]
  },
  {
   "cell_type": "markdown",
   "metadata": {},
   "source": [
    "For example : Having two columns like year of birth and age, there is a direct correlation between them (Hopefully I don't have to explain why!). Now if I train my data on this dataset specifically, increasing values of one column will change my weights(if my model utilises them somehow), but the correlated variable will make the weights to change faster than they should have. Take for example : I want to go from Place A on google maps to Place B having some curves and moderate traffic along the way. Instead of just a single accelerator, I have two one for me and one for you, you being the one reading this notebook ! Now imagine whenever I press the accelerator, you also are obligated to press it since we are related ! Now if I have to reach the destination faster, I would for obvious reasons be pressing on the accelerator which would increase my speed twice as much. Now I am a fabulous driver so I will understand what is happening within a minute and would accelerate accordingly. But the sad part is out model won't. This will eventually lead to an accident ! In ML terms : A poor model ! So removing positively correlated terms (I accelerate, you accelerate) and negatively correlated terms (I accelerate, you brake) would mean a bad model !"
   ]
  },
  {
   "cell_type": "markdown",
   "metadata": {},
   "source": [
    "Remember : correlation should be high if you want to remove it ! Also values of correalation is going to be between 1 and -1. You should read about correlation more since it is not just centric to Machine Learning but is also one of the building blocks for various statistical methodologies !"
   ]
  },
  {
   "cell_type": "code",
   "execution_count": 35,
   "metadata": {},
   "outputs": [
    {
     "data": {
      "image/png": "[encoded data removed]",
      "text/plain": [
       "<matplotlib.figure.Figure at 0x114ac14e0>"
      ]
     },
     "metadata": {},
     "output_type": "display_data"
    }
   ],
   "source": [
    "sns.heatmap(titanic.corr(),annot=True,cmap='RdYlGn',linewidths=0.5)\n",
    "fig=plt.gcf()\n",
    "fig.set_size_inches(10,8)\n",
    "plt.show()"
   ]
  },
  {
   "cell_type": "markdown",
   "metadata": {},
   "source": [
    "There is a negative correlation between Pclass and Fare for obvious reasons. I mean to get to class 1 (1 is lower in quantity but more in prestige) I need to pay more fare. Similarly there is a positive correlation between SipSb and Parch for obvious reasons (see explaination of Pclass and SipSb to understand more)!"
   ]
  },
  {
   "cell_type": "markdown",
   "metadata": {},
   "source": [
    "# 2. Feature Engineering"
   ]
  },
  {
   "cell_type": "markdown",
   "metadata": {},
   "source": [
    "Generating Initials and using them to determine ages of null Age data points was a part of feature engineering !"
   ]
  },
  {
   "cell_type": "markdown",
   "metadata": {},
   "source": [
    "Imagine feature engineering as a mutation on existing features, modification and even generation of new features to represent data in a better and intuitive manner !"
   ]
  },
  {
   "cell_type": "markdown",
   "metadata": {},
   "source": [
    "Why feature engineering is important ?"
   ]
  },
  {
   "cell_type": "markdown",
   "metadata": {},
   "source": [
    "Well for starters you can't train models on every feature (eg. logistic regression and SVM can't deal with categorical data etc.)\n",
    "There are other reasons why features should be engineered in a better manner which you can go on and read about, but I curretly would focus on how to do it rather than why you should do it !"
   ]
  },
  {
   "cell_type": "markdown",
   "metadata": {},
   "source": [
    "## 2.1 Age Bins !"
   ]
  },
  {
   "cell_type": "markdown",
   "metadata": {},
   "source": [
    "Age is a continous variable. Getting insights and analysing continuos variables is difficult ! Hence I would try to convert it into discrete form !"
   ]
  },
  {
   "cell_type": "code",
   "execution_count": 36,
   "metadata": {},
   "outputs": [
    {
     "data": {
      "text/html": [
       "<div>\n",
       "<style>\n",
       "    .dataframe thead tr:only-child th {\n",
       "        text-align: right;\n",
       "    }\n",
       "\n",
       "    .dataframe thead th {\n",
       "        text-align: left;\n",
       "    }\n",
       "\n",
       "    .dataframe tbody tr th {\n",
       "        vertical-align: top;\n",
       "    }\n",
       "</style>\n",
       "<table border=\"1\" class=\"dataframe\">\n",
       "  <thead>\n",
       "    <tr style=\"text-align: right;\">\n",
       "      <th></th>\n",
       "      <th>PassengerId</th>\n",
       "      <th>Survived</th>\n",
       "      <th>Pclass</th>\n",
       "      <th>Name</th>\n",
       "      <th>Sex</th>\n",
       "      <th>Age</th>\n",
       "      <th>SibSp</th>\n",
       "      <th>Parch</th>\n",
       "      <th>Ticket</th>\n",
       "      <th>Fare</th>\n",
       "      <th>Cabin</th>\n",
       "      <th>Embarked</th>\n",
       "      <th>Initials</th>\n",
       "      <th>Age_bins</th>\n",
       "    </tr>\n",
       "  </thead>\n",
       "  <tbody>\n",
       "    <tr>\n",
       "      <th>0</th>\n",
       "      <td>1</td>\n",
       "      <td>0</td>\n",
       "      <td>3</td>\n",
       "      <td>Braund, Mr. Owen Harris</td>\n",
       "      <td>male</td>\n",
       "      <td>22.0</td>\n",
       "      <td>1</td>\n",
       "      <td>0</td>\n",
       "      <td>A/5 21171</td>\n",
       "      <td>7.2500</td>\n",
       "      <td>NaN</td>\n",
       "      <td>S</td>\n",
       "      <td>Mr</td>\n",
       "      <td>1</td>\n",
       "    </tr>\n",
       "    <tr>\n",
       "      <th>1</th>\n",
       "      <td>2</td>\n",
       "      <td>1</td>\n",
       "      <td>1</td>\n",
       "      <td>Cumings, Mrs. John Bradley (Florence Briggs Th...</td>\n",
       "      <td>female</td>\n",
       "      <td>38.0</td>\n",
       "      <td>1</td>\n",
       "      <td>0</td>\n",
       "      <td>PC 17599</td>\n",
       "      <td>71.2833</td>\n",
       "      <td>C85</td>\n",
       "      <td>C</td>\n",
       "      <td>Mrs</td>\n",
       "      <td>2</td>\n",
       "    </tr>\n",
       "    <tr>\n",
       "      <th>2</th>\n",
       "      <td>3</td>\n",
       "      <td>1</td>\n",
       "      <td>3</td>\n",
       "      <td>Heikkinen, Miss. Laina</td>\n",
       "      <td>female</td>\n",
       "      <td>26.0</td>\n",
       "      <td>0</td>\n",
       "      <td>0</td>\n",
       "      <td>STON/O2. 3101282</td>\n",
       "      <td>7.9250</td>\n",
       "      <td>NaN</td>\n",
       "      <td>S</td>\n",
       "      <td>Miss</td>\n",
       "      <td>1</td>\n",
       "    </tr>\n",
       "    <tr>\n",
       "      <th>3</th>\n",
       "      <td>4</td>\n",
       "      <td>1</td>\n",
       "      <td>1</td>\n",
       "      <td>Futrelle, Mrs. Jacques Heath (Lily May Peel)</td>\n",
       "      <td>female</td>\n",
       "      <td>35.0</td>\n",
       "      <td>1</td>\n",
       "      <td>0</td>\n",
       "      <td>113803</td>\n",
       "      <td>53.1000</td>\n",
       "      <td>C123</td>\n",
       "      <td>S</td>\n",
       "      <td>Mrs</td>\n",
       "      <td>2</td>\n",
       "    </tr>\n",
       "    <tr>\n",
       "      <th>4</th>\n",
       "      <td>5</td>\n",
       "      <td>0</td>\n",
       "      <td>3</td>\n",
       "      <td>Allen, Mr. William Henry</td>\n",
       "      <td>male</td>\n",
       "      <td>35.0</td>\n",
       "      <td>0</td>\n",
       "      <td>0</td>\n",
       "      <td>373450</td>\n",
       "      <td>8.0500</td>\n",
       "      <td>NaN</td>\n",
       "      <td>S</td>\n",
       "      <td>Mr</td>\n",
       "      <td>2</td>\n",
       "    </tr>\n",
       "  </tbody>\n",
       "</table>\n",
       "</div>"
      ],
      "text/plain": [
       "   PassengerId  Survived  Pclass  \\\n",
       "0            1         0       3   \n",
       "1            2         1       1   \n",
       "2            3         1       3   \n",
       "3            4         1       1   \n",
       "4            5         0       3   \n",
       "\n",
       "                                                Name     Sex   Age  SibSp  \\\n",
       "0                            Braund, Mr. Owen Harris    male  22.0      1   \n",
       "1  Cumings, Mrs. John Bradley (Florence Briggs Th...  female  38.0      1   \n",
       "2                             Heikkinen, Miss. Laina  female  26.0      0   \n",
       "3       Futrelle, Mrs. Jacques Heath (Lily May Peel)  female  35.0      1   \n",
       "4                           Allen, Mr. William Henry    male  35.0      0   \n",
       "\n",
       "   Parch            Ticket     Fare Cabin Embarked Initials  Age_bins  \n",
       "0      0         A/5 21171   7.2500   NaN        S       Mr         1  \n",
       "1      0          PC 17599  71.2833   C85        C      Mrs         2  \n",
       "2      0  STON/O2. 3101282   7.9250   NaN        S     Miss         1  \n",
       "3      0            113803  53.1000  C123        S      Mrs         2  \n",
       "4      0            373450   8.0500   NaN        S       Mr         2  "
      ]
     },
     "execution_count": 36,
     "metadata": {},
     "output_type": "execute_result"
    }
   ],
   "source": [
    "titanic['Age_bins']=0\n",
    "titanic.loc[titanic['Age']<=16,'Age_bins']=0\n",
    "titanic.loc[(titanic['Age']>16)&(titanic['Age']<=32),'Age_bins']=1\n",
    "titanic.loc[(titanic['Age']>32)&(titanic['Age']<=48),'Age_bins']=2\n",
    "titanic.loc[(titanic['Age']>48)&(titanic['Age']<=64),'Age_bins']=3\n",
    "titanic.loc[(titanic['Age']>64)&(titanic['Age']<=80),'Age_bins']=4\n",
    "titanic.head()"
   ]
  },
  {
   "cell_type": "code",
   "execution_count": 37,
   "metadata": {},
   "outputs": [
    {
     "data": {
      "text/html": [
       "<div>\n",
       "<style>\n",
       "    .dataframe thead tr:only-child th {\n",
       "        text-align: right;\n",
       "    }\n",
       "\n",
       "    .dataframe thead th {\n",
       "        text-align: left;\n",
       "    }\n",
       "\n",
       "    .dataframe tbody tr th {\n",
       "        vertical-align: top;\n",
       "    }\n",
       "</style>\n",
       "<table border=\"1\" class=\"dataframe\">\n",
       "  <thead>\n",
       "    <tr style=\"text-align: right;\">\n",
       "      <th></th>\n",
       "      <th>Age_bins</th>\n",
       "    </tr>\n",
       "  </thead>\n",
       "  <tbody>\n",
       "    <tr>\n",
       "      <th>1</th>\n",
       "      <td>382</td>\n",
       "    </tr>\n",
       "    <tr>\n",
       "      <th>2</th>\n",
       "      <td>325</td>\n",
       "    </tr>\n",
       "    <tr>\n",
       "      <th>0</th>\n",
       "      <td>104</td>\n",
       "    </tr>\n",
       "    <tr>\n",
       "      <th>3</th>\n",
       "      <td>69</td>\n",
       "    </tr>\n",
       "    <tr>\n",
       "      <th>4</th>\n",
       "      <td>11</td>\n",
       "    </tr>\n",
       "  </tbody>\n",
       "</table>\n",
       "</div>"
      ],
      "text/plain": [
       "   Age_bins\n",
       "1       382\n",
       "2       325\n",
       "0       104\n",
       "3        69\n",
       "4        11"
      ]
     },
     "execution_count": 37,
     "metadata": {},
     "output_type": "execute_result"
    }
   ],
   "source": [
    "titanic.Age_bins.value_counts().to_frame()"
   ]
  },
  {
   "cell_type": "code",
   "execution_count": 38,
   "metadata": {},
   "outputs": [
    {
     "data": {
      "image/png": "[encoded data removed]",
      "text/plain": [
       "<matplotlib.figure.Figure at 0x1154b7be0>"
      ]
     },
     "metadata": {},
     "output_type": "display_data"
    }
   ],
   "source": [
    "sns.factorplot('Age_bins','Survived',data=titanic)\n",
    "plt.show()"
   ]
  },
  {
   "cell_type": "markdown",
   "metadata": {},
   "source": [
    "## 2.2 Family Size and Alone"
   ]
  },
  {
   "cell_type": "code",
   "execution_count": 39,
   "metadata": {},
   "outputs": [
    {
     "data": {
      "text/html": [
       "<div>\n",
       "<style>\n",
       "    .dataframe thead tr:only-child th {\n",
       "        text-align: right;\n",
       "    }\n",
       "\n",
       "    .dataframe thead th {\n",
       "        text-align: left;\n",
       "    }\n",
       "\n",
       "    .dataframe tbody tr th {\n",
       "        vertical-align: top;\n",
       "    }\n",
       "</style>\n",
       "<table border=\"1\" class=\"dataframe\">\n",
       "  <thead>\n",
       "    <tr style=\"text-align: right;\">\n",
       "      <th></th>\n",
       "      <th>PassengerId</th>\n",
       "      <th>Survived</th>\n",
       "      <th>Pclass</th>\n",
       "      <th>Name</th>\n",
       "      <th>Sex</th>\n",
       "      <th>Age</th>\n",
       "      <th>SibSp</th>\n",
       "      <th>Parch</th>\n",
       "      <th>Ticket</th>\n",
       "      <th>Fare</th>\n",
       "      <th>Cabin</th>\n",
       "      <th>Embarked</th>\n",
       "      <th>Initials</th>\n",
       "      <th>Age_bins</th>\n",
       "      <th>Family_size</th>\n",
       "    </tr>\n",
       "  </thead>\n",
       "  <tbody>\n",
       "    <tr>\n",
       "      <th>0</th>\n",
       "      <td>1</td>\n",
       "      <td>0</td>\n",
       "      <td>3</td>\n",
       "      <td>Braund, Mr. Owen Harris</td>\n",
       "      <td>male</td>\n",
       "      <td>22.0</td>\n",
       "      <td>1</td>\n",
       "      <td>0</td>\n",
       "      <td>A/5 21171</td>\n",
       "      <td>7.2500</td>\n",
       "      <td>NaN</td>\n",
       "      <td>S</td>\n",
       "      <td>Mr</td>\n",
       "      <td>1</td>\n",
       "      <td>1</td>\n",
       "    </tr>\n",
       "    <tr>\n",
       "      <th>1</th>\n",
       "      <td>2</td>\n",
       "      <td>1</td>\n",
       "      <td>1</td>\n",
       "      <td>Cumings, Mrs. John Bradley (Florence Briggs Th...</td>\n",
       "      <td>female</td>\n",
       "      <td>38.0</td>\n",
       "      <td>1</td>\n",
       "      <td>0</td>\n",
       "      <td>PC 17599</td>\n",
       "      <td>71.2833</td>\n",
       "      <td>C85</td>\n",
       "      <td>C</td>\n",
       "      <td>Mrs</td>\n",
       "      <td>2</td>\n",
       "      <td>1</td>\n",
       "    </tr>\n",
       "    <tr>\n",
       "      <th>2</th>\n",
       "      <td>3</td>\n",
       "      <td>1</td>\n",
       "      <td>3</td>\n",
       "      <td>Heikkinen, Miss. Laina</td>\n",
       "      <td>female</td>\n",
       "      <td>26.0</td>\n",
       "      <td>0</td>\n",
       "      <td>0</td>\n",
       "      <td>STON/O2. 3101282</td>\n",
       "      <td>7.9250</td>\n",
       "      <td>NaN</td>\n",
       "      <td>S</td>\n",
       "      <td>Miss</td>\n",
       "      <td>1</td>\n",
       "      <td>0</td>\n",
       "    </tr>\n",
       "    <tr>\n",
       "      <th>3</th>\n",
       "      <td>4</td>\n",
       "      <td>1</td>\n",
       "      <td>1</td>\n",
       "      <td>Futrelle, Mrs. Jacques Heath (Lily May Peel)</td>\n",
       "      <td>female</td>\n",
       "      <td>35.0</td>\n",
       "      <td>1</td>\n",
       "      <td>0</td>\n",
       "      <td>113803</td>\n",
       "      <td>53.1000</td>\n",
       "      <td>C123</td>\n",
       "      <td>S</td>\n",
       "      <td>Mrs</td>\n",
       "      <td>2</td>\n",
       "      <td>1</td>\n",
       "    </tr>\n",
       "    <tr>\n",
       "      <th>4</th>\n",
       "      <td>5</td>\n",
       "      <td>0</td>\n",
       "      <td>3</td>\n",
       "      <td>Allen, Mr. William Henry</td>\n",
       "      <td>male</td>\n",
       "      <td>35.0</td>\n",
       "      <td>0</td>\n",
       "      <td>0</td>\n",
       "      <td>373450</td>\n",
       "      <td>8.0500</td>\n",
       "      <td>NaN</td>\n",
       "      <td>S</td>\n",
       "      <td>Mr</td>\n",
       "      <td>2</td>\n",
       "      <td>0</td>\n",
       "    </tr>\n",
       "  </tbody>\n",
       "</table>\n",
       "</div>"
      ],
      "text/plain": [
       "   PassengerId  Survived  Pclass  \\\n",
       "0            1         0       3   \n",
       "1            2         1       1   \n",
       "2            3         1       3   \n",
       "3            4         1       1   \n",
       "4            5         0       3   \n",
       "\n",
       "                                                Name     Sex   Age  SibSp  \\\n",
       "0                            Braund, Mr. Owen Harris    male  22.0      1   \n",
       "1  Cumings, Mrs. John Bradley (Florence Briggs Th...  female  38.0      1   \n",
       "2                             Heikkinen, Miss. Laina  female  26.0      0   \n",
       "3       Futrelle, Mrs. Jacques Heath (Lily May Peel)  female  35.0      1   \n",
       "4                           Allen, Mr. William Henry    male  35.0      0   \n",
       "\n",
       "   Parch            Ticket     Fare Cabin Embarked Initials  Age_bins  \\\n",
       "0      0         A/5 21171   7.2500   NaN        S       Mr         1   \n",
       "1      0          PC 17599  71.2833   C85        C      Mrs         2   \n",
       "2      0  STON/O2. 3101282   7.9250   NaN        S     Miss         1   \n",
       "3      0            113803  53.1000  C123        S      Mrs         2   \n",
       "4      0            373450   8.0500   NaN        S       Mr         2   \n",
       "\n",
       "   Family_size  \n",
       "0            1  \n",
       "1            1  \n",
       "2            0  \n",
       "3            1  \n",
       "4            0  "
      ]
     },
     "execution_count": 39,
     "metadata": {},
     "output_type": "execute_result"
    }
   ],
   "source": [
    "#Creating a variable Family size as Sum of Parch and SibSp\n",
    "titanic['Family_size']=0\n",
    "titanic['Family_size']=titanic['Parch']+titanic['SibSp']\n",
    "titanic.head(5)"
   ]
  },
  {
   "cell_type": "code",
   "execution_count": 40,
   "metadata": {
    "collapsed": true
   },
   "outputs": [],
   "source": [
    "#As we saw above, people who are alone have considerable chances of survival. Hence I will be creating a new Column of 'Alone\n",
    "titanic['Alone']=0\n",
    "titanic.loc[titanic['Family_size']==0,'Alone']=1"
   ]
  },
  {
   "cell_type": "code",
   "execution_count": 41,
   "metadata": {},
   "outputs": [
    {
     "data": {
      "text/html": [
       "<div>\n",
       "<style>\n",
       "    .dataframe thead tr:only-child th {\n",
       "        text-align: right;\n",
       "    }\n",
       "\n",
       "    .dataframe thead th {\n",
       "        text-align: left;\n",
       "    }\n",
       "\n",
       "    .dataframe tbody tr th {\n",
       "        vertical-align: top;\n",
       "    }\n",
       "</style>\n",
       "<table border=\"1\" class=\"dataframe\">\n",
       "  <thead>\n",
       "    <tr style=\"text-align: right;\">\n",
       "      <th></th>\n",
       "      <th>PassengerId</th>\n",
       "      <th>Survived</th>\n",
       "      <th>Pclass</th>\n",
       "      <th>Name</th>\n",
       "      <th>Sex</th>\n",
       "      <th>Age</th>\n",
       "      <th>SibSp</th>\n",
       "      <th>Parch</th>\n",
       "      <th>Ticket</th>\n",
       "      <th>Fare</th>\n",
       "      <th>Cabin</th>\n",
       "      <th>Embarked</th>\n",
       "      <th>Initials</th>\n",
       "      <th>Age_bins</th>\n",
       "      <th>Family_size</th>\n",
       "      <th>Alone</th>\n",
       "    </tr>\n",
       "  </thead>\n",
       "  <tbody>\n",
       "    <tr>\n",
       "      <th>0</th>\n",
       "      <td>1</td>\n",
       "      <td>0</td>\n",
       "      <td>3</td>\n",
       "      <td>Braund, Mr. Owen Harris</td>\n",
       "      <td>male</td>\n",
       "      <td>22.0</td>\n",
       "      <td>1</td>\n",
       "      <td>0</td>\n",
       "      <td>A/5 21171</td>\n",
       "      <td>7.2500</td>\n",
       "      <td>NaN</td>\n",
       "      <td>S</td>\n",
       "      <td>Mr</td>\n",
       "      <td>1</td>\n",
       "      <td>1</td>\n",
       "      <td>0</td>\n",
       "    </tr>\n",
       "    <tr>\n",
       "      <th>1</th>\n",
       "      <td>2</td>\n",
       "      <td>1</td>\n",
       "      <td>1</td>\n",
       "      <td>Cumings, Mrs. John Bradley (Florence Briggs Th...</td>\n",
       "      <td>female</td>\n",
       "      <td>38.0</td>\n",
       "      <td>1</td>\n",
       "      <td>0</td>\n",
       "      <td>PC 17599</td>\n",
       "      <td>71.2833</td>\n",
       "      <td>C85</td>\n",
       "      <td>C</td>\n",
       "      <td>Mrs</td>\n",
       "      <td>2</td>\n",
       "      <td>1</td>\n",
       "      <td>0</td>\n",
       "    </tr>\n",
       "    <tr>\n",
       "      <th>2</th>\n",
       "      <td>3</td>\n",
       "      <td>1</td>\n",
       "      <td>3</td>\n",
       "      <td>Heikkinen, Miss. Laina</td>\n",
       "      <td>female</td>\n",
       "      <td>26.0</td>\n",
       "      <td>0</td>\n",
       "      <td>0</td>\n",
       "      <td>STON/O2. 3101282</td>\n",
       "      <td>7.9250</td>\n",
       "      <td>NaN</td>\n",
       "      <td>S</td>\n",
       "      <td>Miss</td>\n",
       "      <td>1</td>\n",
       "      <td>0</td>\n",
       "      <td>1</td>\n",
       "    </tr>\n",
       "    <tr>\n",
       "      <th>3</th>\n",
       "      <td>4</td>\n",
       "      <td>1</td>\n",
       "      <td>1</td>\n",
       "      <td>Futrelle, Mrs. Jacques Heath (Lily May Peel)</td>\n",
       "      <td>female</td>\n",
       "      <td>35.0</td>\n",
       "      <td>1</td>\n",
       "      <td>0</td>\n",
       "      <td>113803</td>\n",
       "      <td>53.1000</td>\n",
       "      <td>C123</td>\n",
       "      <td>S</td>\n",
       "      <td>Mrs</td>\n",
       "      <td>2</td>\n",
       "      <td>1</td>\n",
       "      <td>0</td>\n",
       "    </tr>\n",
       "    <tr>\n",
       "      <th>4</th>\n",
       "      <td>5</td>\n",
       "      <td>0</td>\n",
       "      <td>3</td>\n",
       "      <td>Allen, Mr. William Henry</td>\n",
       "      <td>male</td>\n",
       "      <td>35.0</td>\n",
       "      <td>0</td>\n",
       "      <td>0</td>\n",
       "      <td>373450</td>\n",
       "      <td>8.0500</td>\n",
       "      <td>NaN</td>\n",
       "      <td>S</td>\n",
       "      <td>Mr</td>\n",
       "      <td>2</td>\n",
       "      <td>0</td>\n",
       "      <td>1</td>\n",
       "    </tr>\n",
       "  </tbody>\n",
       "</table>\n",
       "</div>"
      ],
      "text/plain": [
       "   PassengerId  Survived  Pclass  \\\n",
       "0            1         0       3   \n",
       "1            2         1       1   \n",
       "2            3         1       3   \n",
       "3            4         1       1   \n",
       "4            5         0       3   \n",
       "\n",
       "                                                Name     Sex   Age  SibSp  \\\n",
       "0                            Braund, Mr. Owen Harris    male  22.0      1   \n",
       "1  Cumings, Mrs. John Bradley (Florence Briggs Th...  female  38.0      1   \n",
       "2                             Heikkinen, Miss. Laina  female  26.0      0   \n",
       "3       Futrelle, Mrs. Jacques Heath (Lily May Peel)  female  35.0      1   \n",
       "4                           Allen, Mr. William Henry    male  35.0      0   \n",
       "\n",
       "   Parch            Ticket     Fare Cabin Embarked Initials  Age_bins  \\\n",
       "0      0         A/5 21171   7.2500   NaN        S       Mr         1   \n",
       "1      0          PC 17599  71.2833   C85        C      Mrs         2   \n",
       "2      0  STON/O2. 3101282   7.9250   NaN        S     Miss         1   \n",
       "3      0            113803  53.1000  C123        S      Mrs         2   \n",
       "4      0            373450   8.0500   NaN        S       Mr         2   \n",
       "\n",
       "   Family_size  Alone  \n",
       "0            1      0  \n",
       "1            1      0  \n",
       "2            0      1  \n",
       "3            1      0  \n",
       "4            0      1  "
      ]
     },
     "execution_count": 41,
     "metadata": {},
     "output_type": "execute_result"
    }
   ],
   "source": [
    "titanic.head()"
   ]
  },
  {
   "cell_type": "code",
   "execution_count": 42,
   "metadata": {},
   "outputs": [
    {
     "data": {
      "image/png": "[encoded data removed]",
      "text/plain": [
       "<matplotlib.figure.Figure at 0x114b88f28>"
      ]
     },
     "metadata": {},
     "output_type": "display_data"
    }
   ],
   "source": [
    "f,ax=plt.subplots(1,2,figsize=(18,6))\n",
    "sns.factorplot('Family_size','Survived',data=titanic,ax=ax[0])\n",
    "ax[0].set_title('Family_size vs Survived')\n",
    "sns.factorplot('Alone','Survived',data=titanic,ax=ax[1])\n",
    "ax[1].set_title('Alone vs Survived')\n",
    "plt.close(2) #0,1 are the outputs we need, we are getting 2,3 as extra !\n",
    "plt.close(3) #Same as above\n",
    "plt.show()"
   ]
  },
  {
   "cell_type": "markdown",
   "metadata": {},
   "source": [
    "## 2.3 Fare Ordinal"
   ]
  },
  {
   "cell_type": "markdown",
   "metadata": {},
   "source": [
    "Ordinal means discrete numerical values rather than continuous ones ! Ordinal word signifies something which can be arranged in an ascending or descending fashion. Opoosite of ordinal is nominal which cannot be arranged For eg. : Representing men and women with 0 and 1 respectively. Numerically they can be arranged but since they represent men and women, arranging them in any way is senseless and maybe even sexist !"
   ]
  },
  {
   "cell_type": "code",
   "execution_count": 43,
   "metadata": {
    "collapsed": true
   },
   "outputs": [],
   "source": [
    "#pd.qcut (pd is used for pandas) = cuts column continuous into data bins (range) as passed much like in our above age case"
   ]
  },
  {
   "cell_type": "code",
   "execution_count": 44,
   "metadata": {
    "collapsed": true
   },
   "outputs": [],
   "source": [
    "titanic['Fare_range']=pd.qcut(titanic['Fare'],4)"
   ]
  },
  {
   "cell_type": "code",
   "execution_count": 45,
   "metadata": {},
   "outputs": [
    {
     "data": {
      "text/html": [
       "<div>\n",
       "<style>\n",
       "    .dataframe thead tr:only-child th {\n",
       "        text-align: right;\n",
       "    }\n",
       "\n",
       "    .dataframe thead th {\n",
       "        text-align: left;\n",
       "    }\n",
       "\n",
       "    .dataframe tbody tr th {\n",
       "        vertical-align: top;\n",
       "    }\n",
       "</style>\n",
       "<table border=\"1\" class=\"dataframe\">\n",
       "  <thead>\n",
       "    <tr style=\"text-align: right;\">\n",
       "      <th></th>\n",
       "      <th>PassengerId</th>\n",
       "      <th>Survived</th>\n",
       "      <th>Pclass</th>\n",
       "      <th>Name</th>\n",
       "      <th>Sex</th>\n",
       "      <th>Age</th>\n",
       "      <th>SibSp</th>\n",
       "      <th>Parch</th>\n",
       "      <th>Ticket</th>\n",
       "      <th>Fare</th>\n",
       "      <th>Cabin</th>\n",
       "      <th>Embarked</th>\n",
       "      <th>Initials</th>\n",
       "      <th>Age_bins</th>\n",
       "      <th>Family_size</th>\n",
       "      <th>Alone</th>\n",
       "      <th>Fare_range</th>\n",
       "    </tr>\n",
       "  </thead>\n",
       "  <tbody>\n",
       "    <tr>\n",
       "      <th>0</th>\n",
       "      <td>1</td>\n",
       "      <td>0</td>\n",
       "      <td>3</td>\n",
       "      <td>Braund, Mr. Owen Harris</td>\n",
       "      <td>male</td>\n",
       "      <td>22.0</td>\n",
       "      <td>1</td>\n",
       "      <td>0</td>\n",
       "      <td>A/5 21171</td>\n",
       "      <td>7.2500</td>\n",
       "      <td>NaN</td>\n",
       "      <td>S</td>\n",
       "      <td>Mr</td>\n",
       "      <td>1</td>\n",
       "      <td>1</td>\n",
       "      <td>0</td>\n",
       "      <td>(-0.001, 7.91]</td>\n",
       "    </tr>\n",
       "    <tr>\n",
       "      <th>1</th>\n",
       "      <td>2</td>\n",
       "      <td>1</td>\n",
       "      <td>1</td>\n",
       "      <td>Cumings, Mrs. John Bradley (Florence Briggs Th...</td>\n",
       "      <td>female</td>\n",
       "      <td>38.0</td>\n",
       "      <td>1</td>\n",
       "      <td>0</td>\n",
       "      <td>PC 17599</td>\n",
       "      <td>71.2833</td>\n",
       "      <td>C85</td>\n",
       "      <td>C</td>\n",
       "      <td>Mrs</td>\n",
       "      <td>2</td>\n",
       "      <td>1</td>\n",
       "      <td>0</td>\n",
       "      <td>(31.0, 512.329]</td>\n",
       "    </tr>\n",
       "    <tr>\n",
       "      <th>2</th>\n",
       "      <td>3</td>\n",
       "      <td>1</td>\n",
       "      <td>3</td>\n",
       "      <td>Heikkinen, Miss. Laina</td>\n",
       "      <td>female</td>\n",
       "      <td>26.0</td>\n",
       "      <td>0</td>\n",
       "      <td>0</td>\n",
       "      <td>STON/O2. 3101282</td>\n",
       "      <td>7.9250</td>\n",
       "      <td>NaN</td>\n",
       "      <td>S</td>\n",
       "      <td>Miss</td>\n",
       "      <td>1</td>\n",
       "      <td>0</td>\n",
       "      <td>1</td>\n",
       "      <td>(7.91, 14.454]</td>\n",
       "    </tr>\n",
       "    <tr>\n",
       "      <th>3</th>\n",
       "      <td>4</td>\n",
       "      <td>1</td>\n",
       "      <td>1</td>\n",
       "      <td>Futrelle, Mrs. Jacques Heath (Lily May Peel)</td>\n",
       "      <td>female</td>\n",
       "      <td>35.0</td>\n",
       "      <td>1</td>\n",
       "      <td>0</td>\n",
       "      <td>113803</td>\n",
       "      <td>53.1000</td>\n",
       "      <td>C123</td>\n",
       "      <td>S</td>\n",
       "      <td>Mrs</td>\n",
       "      <td>2</td>\n",
       "      <td>1</td>\n",
       "      <td>0</td>\n",
       "      <td>(31.0, 512.329]</td>\n",
       "    </tr>\n",
       "    <tr>\n",
       "      <th>4</th>\n",
       "      <td>5</td>\n",
       "      <td>0</td>\n",
       "      <td>3</td>\n",
       "      <td>Allen, Mr. William Henry</td>\n",
       "      <td>male</td>\n",
       "      <td>35.0</td>\n",
       "      <td>0</td>\n",
       "      <td>0</td>\n",
       "      <td>373450</td>\n",
       "      <td>8.0500</td>\n",
       "      <td>NaN</td>\n",
       "      <td>S</td>\n",
       "      <td>Mr</td>\n",
       "      <td>2</td>\n",
       "      <td>0</td>\n",
       "      <td>1</td>\n",
       "      <td>(7.91, 14.454]</td>\n",
       "    </tr>\n",
       "  </tbody>\n",
       "</table>\n",
       "</div>"
      ],
      "text/plain": [
       "   PassengerId  Survived  Pclass  \\\n",
       "0            1         0       3   \n",
       "1            2         1       1   \n",
       "2            3         1       3   \n",
       "3            4         1       1   \n",
       "4            5         0       3   \n",
       "\n",
       "                                                Name     Sex   Age  SibSp  \\\n",
       "0                            Braund, Mr. Owen Harris    male  22.0      1   \n",
       "1  Cumings, Mrs. John Bradley (Florence Briggs Th...  female  38.0      1   \n",
       "2                             Heikkinen, Miss. Laina  female  26.0      0   \n",
       "3       Futrelle, Mrs. Jacques Heath (Lily May Peel)  female  35.0      1   \n",
       "4                           Allen, Mr. William Henry    male  35.0      0   \n",
       "\n",
       "   Parch            Ticket     Fare Cabin Embarked Initials  Age_bins  \\\n",
       "0      0         A/5 21171   7.2500   NaN        S       Mr         1   \n",
       "1      0          PC 17599  71.2833   C85        C      Mrs         2   \n",
       "2      0  STON/O2. 3101282   7.9250   NaN        S     Miss         1   \n",
       "3      0            113803  53.1000  C123        S      Mrs         2   \n",
       "4      0            373450   8.0500   NaN        S       Mr         2   \n",
       "\n",
       "   Family_size  Alone       Fare_range  \n",
       "0            1      0   (-0.001, 7.91]  \n",
       "1            1      0  (31.0, 512.329]  \n",
       "2            0      1   (7.91, 14.454]  \n",
       "3            1      0  (31.0, 512.329]  \n",
       "4            0      1   (7.91, 14.454]  "
      ]
     },
     "execution_count": 45,
     "metadata": {},
     "output_type": "execute_result"
    }
   ],
   "source": [
    "titanic.head()"
   ]
  },
  {
   "cell_type": "code",
   "execution_count": 46,
   "metadata": {},
   "outputs": [
    {
     "data": {
      "text/plain": [
       "Fare_range\n",
       "(-0.001, 7.91]     223\n",
       "(7.91, 14.454]     224\n",
       "(14.454, 31.0]     222\n",
       "(31.0, 512.329]    222\n",
       "Name: Survived, dtype: int64"
      ]
     },
     "execution_count": 46,
     "metadata": {},
     "output_type": "execute_result"
    }
   ],
   "source": [
    "titanic.groupby(['Fare_range'])['Survived'].count()"
   ]
  },
  {
   "cell_type": "markdown",
   "metadata": {
    "collapsed": true
   },
   "source": [
    "pd.qcut divides in range but doesn't alot a specific categorical value ! We'll do that now"
   ]
  },
  {
   "cell_type": "code",
   "execution_count": 47,
   "metadata": {
    "collapsed": true
   },
   "outputs": [],
   "source": [
    "#Creating fare category instead of continous variable\n",
    "titanic['Fare_cat']=0\n",
    "titanic.loc[titanic['Fare']<=7.91,'Fare_cat']=0\n",
    "titanic.loc[(titanic['Fare']>7.91)&(titanic['Fare']<=14.454),'Fare_cat']=1\n",
    "titanic.loc[(titanic['Fare']>14.454)&(titanic['Fare']<=31),'Fare_cat']=2\n",
    "titanic.loc[(titanic['Fare']>31)&(titanic['Fare']<=513),'Fare_cat']=3"
   ]
  },
  {
   "cell_type": "code",
   "execution_count": 48,
   "metadata": {},
   "outputs": [
    {
     "data": {
      "image/png": "[encoded data removed]",
      "text/plain": [
       "<matplotlib.figure.Figure at 0x114d61128>"
      ]
     },
     "metadata": {},
     "output_type": "display_data"
    }
   ],
   "source": [
    "sns.factorplot('Fare_cat','Survived',data=titanic)\n",
    "plt.show()"
   ]
  },
  {
   "cell_type": "markdown",
   "metadata": {
    "collapsed": true
   },
   "source": [
    "Higher the fare more chances of survival #Moneytalks !"
   ]
  },
  {
   "cell_type": "markdown",
   "metadata": {},
   "source": [
    "## 2.4 Further Feature Engineering"
   ]
  },
  {
   "cell_type": "markdown",
   "metadata": {},
   "source": [
    "As I mentioned above, string categorical features can't be used to train Machine Learning models ! So I would be converting them as well to numerical values !"
   ]
  },
  {
   "cell_type": "code",
   "execution_count": 49,
   "metadata": {
    "collapsed": true
   },
   "outputs": [],
   "source": [
    "titanic['Sex'].replace(['male','female'],[0,1],inplace=True)\n",
    "titanic['Embarked'].replace(['S','C','Q'],[0,1,2],inplace=True)\n",
    "titanic['Initials'].replace(['Mr','Mrs','Miss','Master','Other'],[0,1,2,3,4],inplace=True)"
   ]
  },
  {
   "cell_type": "code",
   "execution_count": 50,
   "metadata": {
    "collapsed": true
   },
   "outputs": [],
   "source": [
    "titanic.drop(['Name','Age','Ticket','Fare','Cabin','Fare_range','PassengerId'],axis=1,inplace=True)"
   ]
  },
  {
   "cell_type": "code",
   "execution_count": 51,
   "metadata": {},
   "outputs": [
    {
     "data": {
      "image/png": "[encoded data removed]",
      "text/plain": [
       "<matplotlib.figure.Figure at 0x109cc3668>"
      ]
     },
     "metadata": {},
     "output_type": "display_data"
    }
   ],
   "source": [
    "sns.heatmap(titanic.corr(),annot=True,linewidths=0.5,cmap='RdYlGn')\n",
    "f = plt.gcf()\n",
    "f.set_size_inches(20,15)\n",
    "plt.show()"
   ]
  },
  {
   "cell_type": "markdown",
   "metadata": {},
   "source": [
    "# 3. Prediction Analysis"
   ]
  },
  {
   "cell_type": "markdown",
   "metadata": {},
   "source": [
    "### I would be using the following models to predict survival"
   ]
  },
  {
   "cell_type": "markdown",
   "metadata": {},
   "source": [
    "1. Logistic Regression\n",
    "2. K-Nearest Neighbors\n",
    "3. Naive Bayes\n",
    "4. Decision Tree\n",
    "5. Random Forest\n",
    "6. SVM (linear, Radial)"
   ]
  },
  {
   "cell_type": "markdown",
   "metadata": {},
   "source": [
    "### Ensemble Models"
   ]
  },
  {
   "cell_type": "markdown",
   "metadata": {},
   "source": [
    "1. Voting\n",
    "2. Bagging\n",
    "3. Boosting"
   ]
  },
  {
   "cell_type": "code",
   "execution_count": 52,
   "metadata": {
    "collapsed": true
   },
   "outputs": [],
   "source": [
    "from sklearn.model_selection import train_test_split"
   ]
  },
  {
   "cell_type": "code",
   "execution_count": 53,
   "metadata": {
    "collapsed": true
   },
   "outputs": [],
   "source": [
    "from sklearn.linear_model import LogisticRegression\n",
    "from sklearn import metrics"
   ]
  },
  {
   "cell_type": "code",
   "execution_count": 54,
   "metadata": {
    "collapsed": true
   },
   "outputs": [],
   "source": [
    "train,test=train_test_split(titanic,test_size=0.3,random_state=0,stratify=titanic['Survived'])\n",
    "train_X=train[train.columns[1:]]\n",
    "train_Y=train[train.columns[:1]]\n",
    "test_X=test[test.columns[1:]]\n",
    "test_Y=test[test.columns[:1]]\n",
    "X=titanic[titanic.columns[1:]]\n",
    "Y=titanic['Survived']"
   ]
  },
  {
   "cell_type": "markdown",
   "metadata": {},
   "source": [
    "## 3.1 Classification Models"
   ]
  },
  {
   "cell_type": "markdown",
   "metadata": {},
   "source": [
    "### Logistic Regression"
   ]
  },
  {
   "cell_type": "code",
   "execution_count": 55,
   "metadata": {},
   "outputs": [
    {
     "name": "stderr",
     "output_type": "stream",
     "text": [
      "/Applications/anaconda3/lib/python3.6/site-packages/sklearn/utils/validation.py:578: DataConversionWarning: A column-vector y was passed when a 1d array was expected. Please change the shape of y to (n_samples, ), for example using ravel().\n",
      "  y = column_or_1d(y, warn=True)\n"
     ]
    },
    {
     "data": {
      "text/plain": [
       "0.81716417910447758"
      ]
     },
     "execution_count": 55,
     "metadata": {},
     "output_type": "execute_result"
    }
   ],
   "source": [
    "model1 = LogisticRegression()\n",
    "model1.fit(train_X,train_Y)\n",
    "model1.score(test_X,test_Y)"
   ]
  },
  {
   "cell_type": "markdown",
   "metadata": {},
   "source": [
    "### K-Nearest Neighbors"
   ]
  },
  {
   "cell_type": "code",
   "execution_count": 56,
   "metadata": {
    "collapsed": true
   },
   "outputs": [],
   "source": [
    "from sklearn.neighbors import KNeighborsClassifier"
   ]
  },
  {
   "cell_type": "code",
   "execution_count": 57,
   "metadata": {},
   "outputs": [
    {
     "name": "stderr",
     "output_type": "stream",
     "text": [
      "/Applications/anaconda3/lib/python3.6/site-packages/ipykernel_launcher.py:2: DataConversionWarning: A column-vector y was passed when a 1d array was expected. Please change the shape of y to (n_samples, ), for example using ravel().\n",
      "  \n"
     ]
    },
    {
     "data": {
      "text/plain": [
       "0.83208955223880599"
      ]
     },
     "execution_count": 57,
     "metadata": {},
     "output_type": "execute_result"
    }
   ],
   "source": [
    "model2 = KNeighborsClassifier()\n",
    "model2.fit(train_X,train_Y)\n",
    "model2.score(test_X,test_Y)"
   ]
  },
  {
   "cell_type": "markdown",
   "metadata": {
    "collapsed": true
   },
   "source": [
    "For different k values"
   ]
  },
  {
   "cell_type": "code",
   "execution_count": 58,
   "metadata": {},
   "outputs": [
    {
     "name": "stderr",
     "output_type": "stream",
     "text": [
      "/Applications/anaconda3/lib/python3.6/site-packages/ipykernel_launcher.py:5: DataConversionWarning: A column-vector y was passed when a 1d array was expected. Please change the shape of y to (n_samples, ), for example using ravel().\n",
      "  \"\"\"\n"
     ]
    },
    {
     "data": {
      "image/png": "[encoded data removed]",
      "text/plain": [
       "<matplotlib.figure.Figure at 0x115ea9208>"
      ]
     },
     "metadata": {},
     "output_type": "display_data"
    },
    {
     "name": "stdout",
     "output_type": "stream",
     "text": [
      "Highest score : 0.835820895522 for k = 9\n"
     ]
    }
   ],
   "source": [
    "a = list(range(1,11))\n",
    "a1 = list()\n",
    "for i in range(10):\n",
    "    model2 = KNeighborsClassifier(n_neighbors=i+1)\n",
    "    model2.fit(train_X,train_Y)\n",
    "    a1.append(model2.score(test_X,test_Y))\n",
    "plt.plot(a,a1)\n",
    "plt.show()\n",
    "print('Highest score :',max(a1),'for k =',a1.index(max(a1))+1)"
   ]
  },
  {
   "cell_type": "markdown",
   "metadata": {},
   "source": [
    "### Naive Bayes"
   ]
  },
  {
   "cell_type": "code",
   "execution_count": 59,
   "metadata": {
    "collapsed": true
   },
   "outputs": [],
   "source": [
    "from sklearn.naive_bayes import GaussianNB"
   ]
  },
  {
   "cell_type": "code",
   "execution_count": 60,
   "metadata": {},
   "outputs": [
    {
     "name": "stderr",
     "output_type": "stream",
     "text": [
      "/Applications/anaconda3/lib/python3.6/site-packages/sklearn/utils/validation.py:578: DataConversionWarning: A column-vector y was passed when a 1d array was expected. Please change the shape of y to (n_samples, ), for example using ravel().\n",
      "  y = column_or_1d(y, warn=True)\n"
     ]
    },
    {
     "data": {
      "text/plain": [
       "0.81343283582089554"
      ]
     },
     "execution_count": 60,
     "metadata": {},
     "output_type": "execute_result"
    }
   ],
   "source": [
    "model3 = GaussianNB()\n",
    "model3.fit(train_X,train_Y)\n",
    "model3.score(test_X,test_Y)"
   ]
  },
  {
   "cell_type": "markdown",
   "metadata": {},
   "source": [
    "### Decision Tree"
   ]
  },
  {
   "cell_type": "code",
   "execution_count": 61,
   "metadata": {
    "collapsed": true
   },
   "outputs": [],
   "source": [
    "from sklearn.tree import DecisionTreeClassifier"
   ]
  },
  {
   "cell_type": "code",
   "execution_count": 62,
   "metadata": {},
   "outputs": [
    {
     "data": {
      "text/plain": [
       "0.80223880597014929"
      ]
     },
     "execution_count": 62,
     "metadata": {},
     "output_type": "execute_result"
    }
   ],
   "source": [
    "model4 = DecisionTreeClassifier()\n",
    "model4.fit(train_X,train_Y)\n",
    "model4.score(test_X,test_Y)"
   ]
  },
  {
   "cell_type": "markdown",
   "metadata": {},
   "source": [
    "### Random Forest"
   ]
  },
  {
   "cell_type": "code",
   "execution_count": 63,
   "metadata": {
    "collapsed": true
   },
   "outputs": [],
   "source": [
    "from sklearn.ensemble import RandomForestClassifier"
   ]
  },
  {
   "cell_type": "code",
   "execution_count": 64,
   "metadata": {},
   "outputs": [
    {
     "name": "stderr",
     "output_type": "stream",
     "text": [
      "/Applications/anaconda3/lib/python3.6/site-packages/ipykernel_launcher.py:2: DataConversionWarning: A column-vector y was passed when a 1d array was expected. Please change the shape of y to (n_samples,), for example using ravel().\n",
      "  \n"
     ]
    },
    {
     "data": {
      "text/plain": [
       "0.80597014925373134"
      ]
     },
     "execution_count": 64,
     "metadata": {},
     "output_type": "execute_result"
    }
   ],
   "source": [
    "model5 = RandomForestClassifier()\n",
    "model5.fit(train_X,train_Y)\n",
    "model5.score(test_X,test_Y)"
   ]
  },
  {
   "cell_type": "markdown",
   "metadata": {},
   "source": [
    "### Support Vector Machines (SVM)"
   ]
  },
  {
   "cell_type": "code",
   "execution_count": 65,
   "metadata": {
    "collapsed": true
   },
   "outputs": [],
   "source": [
    "from sklearn import svm"
   ]
  },
  {
   "cell_type": "code",
   "execution_count": 66,
   "metadata": {},
   "outputs": [
    {
     "name": "stderr",
     "output_type": "stream",
     "text": [
      "/Applications/anaconda3/lib/python3.6/site-packages/sklearn/utils/validation.py:578: DataConversionWarning: A column-vector y was passed when a 1d array was expected. Please change the shape of y to (n_samples, ), for example using ravel().\n",
      "  y = column_or_1d(y, warn=True)\n"
     ]
    },
    {
     "data": {
      "text/plain": [
       "0.79850746268656714"
      ]
     },
     "execution_count": 66,
     "metadata": {},
     "output_type": "execute_result"
    }
   ],
   "source": [
    "model6 = svm.SVC(kernel='linear')\n",
    "model6.fit(train_X,train_Y)\n",
    "model6.score(test_X,test_Y)"
   ]
  },
  {
   "cell_type": "code",
   "execution_count": 67,
   "metadata": {},
   "outputs": [
    {
     "name": "stderr",
     "output_type": "stream",
     "text": [
      "/Applications/anaconda3/lib/python3.6/site-packages/sklearn/utils/validation.py:578: DataConversionWarning: A column-vector y was passed when a 1d array was expected. Please change the shape of y to (n_samples, ), for example using ravel().\n",
      "  y = column_or_1d(y, warn=True)\n"
     ]
    },
    {
     "data": {
      "text/plain": [
       "0.83582089552238803"
      ]
     },
     "execution_count": 67,
     "metadata": {},
     "output_type": "execute_result"
    }
   ],
   "source": [
    "model7 = svm.SVC(kernel='rbf')\n",
    "model7.fit(train_X,train_Y)\n",
    "model7.score(test_X,test_Y)"
   ]
  },
  {
   "cell_type": "markdown",
   "metadata": {},
   "source": [
    "## 3.2 Cross Validation"
   ]
  },
  {
   "cell_type": "markdown",
   "metadata": {},
   "source": [
    "When we train a model and test it using train_test_split there is a probability that the data going into the test part is having majority of a particular category/categories whereas absence of others. This might become a reason for the model for showing good results when in reality it is not so ! One thing that can be done, is to use CrossValidation. "
   ]
  },
  {
   "cell_type": "markdown",
   "metadata": {},
   "source": [
    "In this technique, the model is fit on (x-1) parts and tested on remaining 1 part where x is an integer we can choose to divide the entire dataset into equal x parts ! The process is repeated and the test scores are calculated for each part ! Mean value of the result can be regarded as the mean score of accuracy we get using that specific model !"
   ]
  },
  {
   "cell_type": "code",
   "execution_count": 68,
   "metadata": {
    "collapsed": true
   },
   "outputs": [],
   "source": [
    "from sklearn.model_selection import cross_val_score\n",
    "from sklearn.model_selection import KFold"
   ]
  },
  {
   "cell_type": "code",
   "execution_count": 69,
   "metadata": {},
   "outputs": [
    {
     "data": {
      "text/html": [
       "<style  type=\"text/css\" >\n",
       "    #T_1abcd488_1a2b_11e9_80d2_d4619d1ccf32row0_col0 {\n",
       "            background-color:  #7dbe66;\n",
       "        }    #T_1abcd488_1a2b_11e9_80d2_d4619d1ccf32row1_col0 {\n",
       "            background-color:  #ffff66;\n",
       "        }    #T_1abcd488_1a2b_11e9_80d2_d4619d1ccf32row2_col0 {\n",
       "            background-color:  #95ca66;\n",
       "        }    #T_1abcd488_1a2b_11e9_80d2_d4619d1ccf32row3_col0 {\n",
       "            background-color:  #76bb66;\n",
       "        }    #T_1abcd488_1a2b_11e9_80d2_d4619d1ccf32row4_col0 {\n",
       "            background-color:  #6ab466;\n",
       "        }    #T_1abcd488_1a2b_11e9_80d2_d4619d1ccf32row5_col0 {\n",
       "            background-color:  #c2e066;\n",
       "        }    #T_1abcd488_1a2b_11e9_80d2_d4619d1ccf32row6_col0 {\n",
       "            background-color:  #008066;\n",
       "        }</style>  \n",
       "<table id=\"T_1abcd488_1a2b_11e9_80d2_d4619d1ccf32\" > \n",
       "<thead>    <tr> \n",
       "        <th class=\"blank level0\" ></th> \n",
       "        <th class=\"col_heading level0 col0\" >CV_Score</th> \n",
       "    </tr></thead> \n",
       "<tbody>    <tr> \n",
       "        <th id=\"T_1abcd488_1a2b_11e9_80d2_d4619d1ccf32level0_row0\" class=\"row_heading level0 row0\" >Logistic Regression</th> \n",
       "        <td id=\"T_1abcd488_1a2b_11e9_80d2_d4619d1ccf32row0_col0\" class=\"data row0 col0\" >0.805843</td> \n",
       "    </tr>    <tr> \n",
       "        <th id=\"T_1abcd488_1a2b_11e9_80d2_d4619d1ccf32level0_row1\" class=\"row_heading level0 row1\" >K-Nearest Neighbors</th> \n",
       "        <td id=\"T_1abcd488_1a2b_11e9_80d2_d4619d1ccf32row1_col0\" class=\"data row1 col0\" >0.782347</td> \n",
       "    </tr>    <tr> \n",
       "        <th id=\"T_1abcd488_1a2b_11e9_80d2_d4619d1ccf32level0_row2\" class=\"row_heading level0 row2\" >Naive Bayes</th> \n",
       "        <td id=\"T_1abcd488_1a2b_11e9_80d2_d4619d1ccf32row2_col0\" class=\"data row2 col0\" >0.801386</td> \n",
       "    </tr>    <tr> \n",
       "        <th id=\"T_1abcd488_1a2b_11e9_80d2_d4619d1ccf32level0_row3\" class=\"row_heading level0 row3\" >Decision Tree</th> \n",
       "        <td id=\"T_1abcd488_1a2b_11e9_80d2_d4619d1ccf32row3_col0\" class=\"data row3 col0\" >0.807004</td> \n",
       "    </tr>    <tr> \n",
       "        <th id=\"T_1abcd488_1a2b_11e9_80d2_d4619d1ccf32level0_row4\" class=\"row_heading level0 row4\" >Random Forest</th> \n",
       "        <td id=\"T_1abcd488_1a2b_11e9_80d2_d4619d1ccf32row4_col0\" class=\"data row4 col0\" >0.809251</td> \n",
       "    </tr>    <tr> \n",
       "        <th id=\"T_1abcd488_1a2b_11e9_80d2_d4619d1ccf32level0_row5\" class=\"row_heading level0 row5\" >SVM linear</th> \n",
       "        <td id=\"T_1abcd488_1a2b_11e9_80d2_d4619d1ccf32row5_col0\" class=\"data row5 col0\" >0.793471</td> \n",
       "    </tr>    <tr> \n",
       "        <th id=\"T_1abcd488_1a2b_11e9_80d2_d4619d1ccf32level0_row6\" class=\"row_heading level0 row6\" >SVM Radial</th> \n",
       "        <td id=\"T_1abcd488_1a2b_11e9_80d2_d4619d1ccf32row6_col0\" class=\"data row6 col0\" >0.82829</td> \n",
       "    </tr></tbody> \n",
       "</table> "
      ],
      "text/plain": [
       "<pandas.io.formats.style.Styler at 0x115836b38>"
      ]
     },
     "execution_count": 69,
     "metadata": {},
     "output_type": "execute_result"
    }
   ],
   "source": [
    "kfold = KFold(n_splits=10,random_state=0)\n",
    "classifiers = ['Logistic Regression','K-Nearest Neighbors','Naive Bayes','Decision Tree','Random Forest','SVM linear','SVM Radial']\n",
    "models = [LogisticRegression(), KNeighborsClassifier(), GaussianNB(), DecisionTreeClassifier(), RandomForestClassifier(), svm.SVC(kernel='linear'), svm.SVC(kernel='rbf')]\n",
    "x = list()\n",
    "accuracy=list()\n",
    "for i in models:\n",
    "    model = i\n",
    "    cv = cross_val_score(model,X,Y,cv=kfold,scoring='accuracy')\n",
    "    x.append(cv.mean())\n",
    "    accuracy.append(cv)\n",
    "crossval = pd.DataFrame({'CV_Score':x},index=classifiers)\n",
    "crossval.style.background_gradient(cmap='summer_r')"
   ]
  },
  {
   "cell_type": "code",
   "execution_count": 70,
   "metadata": {},
   "outputs": [
    {
     "data": {
      "text/html": [
       "<div>\n",
       "<style>\n",
       "    .dataframe thead tr:only-child th {\n",
       "        text-align: right;\n",
       "    }\n",
       "\n",
       "    .dataframe thead th {\n",
       "        text-align: left;\n",
       "    }\n",
       "\n",
       "    .dataframe tbody tr th {\n",
       "        vertical-align: top;\n",
       "    }\n",
       "</style>\n",
       "<table border=\"1\" class=\"dataframe\">\n",
       "  <thead>\n",
       "    <tr style=\"text-align: right;\">\n",
       "      <th></th>\n",
       "      <th>0</th>\n",
       "      <th>1</th>\n",
       "      <th>2</th>\n",
       "      <th>3</th>\n",
       "      <th>4</th>\n",
       "      <th>5</th>\n",
       "      <th>6</th>\n",
       "      <th>7</th>\n",
       "      <th>8</th>\n",
       "      <th>9</th>\n",
       "    </tr>\n",
       "  </thead>\n",
       "  <tbody>\n",
       "    <tr>\n",
       "      <th>Logistic Regression</th>\n",
       "      <td>0.800000</td>\n",
       "      <td>0.820225</td>\n",
       "      <td>0.775281</td>\n",
       "      <td>0.831461</td>\n",
       "      <td>0.797753</td>\n",
       "      <td>0.786517</td>\n",
       "      <td>0.797753</td>\n",
       "      <td>0.797753</td>\n",
       "      <td>0.853933</td>\n",
       "      <td>0.797753</td>\n",
       "    </tr>\n",
       "    <tr>\n",
       "      <th>K-Nearest Neighbors</th>\n",
       "      <td>0.711111</td>\n",
       "      <td>0.775281</td>\n",
       "      <td>0.741573</td>\n",
       "      <td>0.842697</td>\n",
       "      <td>0.797753</td>\n",
       "      <td>0.764045</td>\n",
       "      <td>0.820225</td>\n",
       "      <td>0.797753</td>\n",
       "      <td>0.820225</td>\n",
       "      <td>0.752809</td>\n",
       "    </tr>\n",
       "    <tr>\n",
       "      <th>Naive Bayes</th>\n",
       "      <td>0.766667</td>\n",
       "      <td>0.764045</td>\n",
       "      <td>0.786517</td>\n",
       "      <td>0.831461</td>\n",
       "      <td>0.775281</td>\n",
       "      <td>0.831461</td>\n",
       "      <td>0.820225</td>\n",
       "      <td>0.775281</td>\n",
       "      <td>0.842697</td>\n",
       "      <td>0.820225</td>\n",
       "    </tr>\n",
       "    <tr>\n",
       "      <th>Decision Tree</th>\n",
       "      <td>0.766667</td>\n",
       "      <td>0.831461</td>\n",
       "      <td>0.786517</td>\n",
       "      <td>0.820225</td>\n",
       "      <td>0.808989</td>\n",
       "      <td>0.775281</td>\n",
       "      <td>0.820225</td>\n",
       "      <td>0.775281</td>\n",
       "      <td>0.853933</td>\n",
       "      <td>0.831461</td>\n",
       "    </tr>\n",
       "    <tr>\n",
       "      <th>Random Forest</th>\n",
       "      <td>0.766667</td>\n",
       "      <td>0.831461</td>\n",
       "      <td>0.764045</td>\n",
       "      <td>0.820225</td>\n",
       "      <td>0.842697</td>\n",
       "      <td>0.775281</td>\n",
       "      <td>0.820225</td>\n",
       "      <td>0.764045</td>\n",
       "      <td>0.853933</td>\n",
       "      <td>0.853933</td>\n",
       "    </tr>\n",
       "    <tr>\n",
       "      <th>SVM linear</th>\n",
       "      <td>0.811111</td>\n",
       "      <td>0.831461</td>\n",
       "      <td>0.752809</td>\n",
       "      <td>0.876404</td>\n",
       "      <td>0.775281</td>\n",
       "      <td>0.808989</td>\n",
       "      <td>0.741573</td>\n",
       "      <td>0.730337</td>\n",
       "      <td>0.853933</td>\n",
       "      <td>0.752809</td>\n",
       "    </tr>\n",
       "    <tr>\n",
       "      <th>SVM Radial</th>\n",
       "      <td>0.822222</td>\n",
       "      <td>0.876404</td>\n",
       "      <td>0.786517</td>\n",
       "      <td>0.876404</td>\n",
       "      <td>0.808989</td>\n",
       "      <td>0.820225</td>\n",
       "      <td>0.797753</td>\n",
       "      <td>0.786517</td>\n",
       "      <td>0.876404</td>\n",
       "      <td>0.831461</td>\n",
       "    </tr>\n",
       "  </tbody>\n",
       "</table>\n",
       "</div>"
      ],
      "text/plain": [
       "                            0         1         2         3         4  \\\n",
       "Logistic Regression  0.800000  0.820225  0.775281  0.831461  0.797753   \n",
       "K-Nearest Neighbors  0.711111  0.775281  0.741573  0.842697  0.797753   \n",
       "Naive Bayes          0.766667  0.764045  0.786517  0.831461  0.775281   \n",
       "Decision Tree        0.766667  0.831461  0.786517  0.820225  0.808989   \n",
       "Random Forest        0.766667  0.831461  0.764045  0.820225  0.842697   \n",
       "SVM linear           0.811111  0.831461  0.752809  0.876404  0.775281   \n",
       "SVM Radial           0.822222  0.876404  0.786517  0.876404  0.808989   \n",
       "\n",
       "                            5         6         7         8         9  \n",
       "Logistic Regression  0.786517  0.797753  0.797753  0.853933  0.797753  \n",
       "K-Nearest Neighbors  0.764045  0.820225  0.797753  0.820225  0.752809  \n",
       "Naive Bayes          0.831461  0.820225  0.775281  0.842697  0.820225  \n",
       "Decision Tree        0.775281  0.820225  0.775281  0.853933  0.831461  \n",
       "Random Forest        0.775281  0.820225  0.764045  0.853933  0.853933  \n",
       "SVM linear           0.808989  0.741573  0.730337  0.853933  0.752809  \n",
       "SVM Radial           0.820225  0.797753  0.786517  0.876404  0.831461  "
      ]
     },
     "execution_count": 70,
     "metadata": {},
     "output_type": "execute_result"
    }
   ],
   "source": [
    "box=pd.DataFrame(accuracy,index=classifiers)\n",
    "box"
   ]
  },
  {
   "cell_type": "code",
   "execution_count": 71,
   "metadata": {},
   "outputs": [
    {
     "data": {
      "text/html": [
       "<div>\n",
       "<style>\n",
       "    .dataframe thead tr:only-child th {\n",
       "        text-align: right;\n",
       "    }\n",
       "\n",
       "    .dataframe thead th {\n",
       "        text-align: left;\n",
       "    }\n",
       "\n",
       "    .dataframe tbody tr th {\n",
       "        vertical-align: top;\n",
       "    }\n",
       "</style>\n",
       "<table border=\"1\" class=\"dataframe\">\n",
       "  <thead>\n",
       "    <tr style=\"text-align: right;\">\n",
       "      <th></th>\n",
       "      <th>Logistic Regression</th>\n",
       "      <th>K-Nearest Neighbors</th>\n",
       "      <th>Naive Bayes</th>\n",
       "      <th>Decision Tree</th>\n",
       "      <th>Random Forest</th>\n",
       "      <th>SVM linear</th>\n",
       "      <th>SVM Radial</th>\n",
       "    </tr>\n",
       "  </thead>\n",
       "  <tbody>\n",
       "    <tr>\n",
       "      <th>0</th>\n",
       "      <td>0.800000</td>\n",
       "      <td>0.711111</td>\n",
       "      <td>0.766667</td>\n",
       "      <td>0.766667</td>\n",
       "      <td>0.766667</td>\n",
       "      <td>0.811111</td>\n",
       "      <td>0.822222</td>\n",
       "    </tr>\n",
       "    <tr>\n",
       "      <th>1</th>\n",
       "      <td>0.820225</td>\n",
       "      <td>0.775281</td>\n",
       "      <td>0.764045</td>\n",
       "      <td>0.831461</td>\n",
       "      <td>0.831461</td>\n",
       "      <td>0.831461</td>\n",
       "      <td>0.876404</td>\n",
       "    </tr>\n",
       "    <tr>\n",
       "      <th>2</th>\n",
       "      <td>0.775281</td>\n",
       "      <td>0.741573</td>\n",
       "      <td>0.786517</td>\n",
       "      <td>0.786517</td>\n",
       "      <td>0.764045</td>\n",
       "      <td>0.752809</td>\n",
       "      <td>0.786517</td>\n",
       "    </tr>\n",
       "    <tr>\n",
       "      <th>3</th>\n",
       "      <td>0.831461</td>\n",
       "      <td>0.842697</td>\n",
       "      <td>0.831461</td>\n",
       "      <td>0.820225</td>\n",
       "      <td>0.820225</td>\n",
       "      <td>0.876404</td>\n",
       "      <td>0.876404</td>\n",
       "    </tr>\n",
       "    <tr>\n",
       "      <th>4</th>\n",
       "      <td>0.797753</td>\n",
       "      <td>0.797753</td>\n",
       "      <td>0.775281</td>\n",
       "      <td>0.808989</td>\n",
       "      <td>0.842697</td>\n",
       "      <td>0.775281</td>\n",
       "      <td>0.808989</td>\n",
       "    </tr>\n",
       "    <tr>\n",
       "      <th>5</th>\n",
       "      <td>0.786517</td>\n",
       "      <td>0.764045</td>\n",
       "      <td>0.831461</td>\n",
       "      <td>0.775281</td>\n",
       "      <td>0.775281</td>\n",
       "      <td>0.808989</td>\n",
       "      <td>0.820225</td>\n",
       "    </tr>\n",
       "    <tr>\n",
       "      <th>6</th>\n",
       "      <td>0.797753</td>\n",
       "      <td>0.820225</td>\n",
       "      <td>0.820225</td>\n",
       "      <td>0.820225</td>\n",
       "      <td>0.820225</td>\n",
       "      <td>0.741573</td>\n",
       "      <td>0.797753</td>\n",
       "    </tr>\n",
       "    <tr>\n",
       "      <th>7</th>\n",
       "      <td>0.797753</td>\n",
       "      <td>0.797753</td>\n",
       "      <td>0.775281</td>\n",
       "      <td>0.775281</td>\n",
       "      <td>0.764045</td>\n",
       "      <td>0.730337</td>\n",
       "      <td>0.786517</td>\n",
       "    </tr>\n",
       "    <tr>\n",
       "      <th>8</th>\n",
       "      <td>0.853933</td>\n",
       "      <td>0.820225</td>\n",
       "      <td>0.842697</td>\n",
       "      <td>0.853933</td>\n",
       "      <td>0.853933</td>\n",
       "      <td>0.853933</td>\n",
       "      <td>0.876404</td>\n",
       "    </tr>\n",
       "    <tr>\n",
       "      <th>9</th>\n",
       "      <td>0.797753</td>\n",
       "      <td>0.752809</td>\n",
       "      <td>0.820225</td>\n",
       "      <td>0.831461</td>\n",
       "      <td>0.853933</td>\n",
       "      <td>0.752809</td>\n",
       "      <td>0.831461</td>\n",
       "    </tr>\n",
       "  </tbody>\n",
       "</table>\n",
       "</div>"
      ],
      "text/plain": [
       "   Logistic Regression  K-Nearest Neighbors  Naive Bayes  Decision Tree  \\\n",
       "0             0.800000             0.711111     0.766667       0.766667   \n",
       "1             0.820225             0.775281     0.764045       0.831461   \n",
       "2             0.775281             0.741573     0.786517       0.786517   \n",
       "3             0.831461             0.842697     0.831461       0.820225   \n",
       "4             0.797753             0.797753     0.775281       0.808989   \n",
       "5             0.786517             0.764045     0.831461       0.775281   \n",
       "6             0.797753             0.820225     0.820225       0.820225   \n",
       "7             0.797753             0.797753     0.775281       0.775281   \n",
       "8             0.853933             0.820225     0.842697       0.853933   \n",
       "9             0.797753             0.752809     0.820225       0.831461   \n",
       "\n",
       "   Random Forest  SVM linear  SVM Radial  \n",
       "0       0.766667    0.811111    0.822222  \n",
       "1       0.831461    0.831461    0.876404  \n",
       "2       0.764045    0.752809    0.786517  \n",
       "3       0.820225    0.876404    0.876404  \n",
       "4       0.842697    0.775281    0.808989  \n",
       "5       0.775281    0.808989    0.820225  \n",
       "6       0.820225    0.741573    0.797753  \n",
       "7       0.764045    0.730337    0.786517  \n",
       "8       0.853933    0.853933    0.876404  \n",
       "9       0.853933    0.752809    0.831461  "
      ]
     },
     "execution_count": 71,
     "metadata": {},
     "output_type": "execute_result"
    }
   ],
   "source": [
    "box.T"
   ]
  },
  {
   "cell_type": "code",
   "execution_count": 72,
   "metadata": {},
   "outputs": [
    {
     "data": {
      "image/png": "[encoded data removed]",
      "text/plain": [
       "<matplotlib.figure.Figure at 0x1157cca90>"
      ]
     },
     "metadata": {},
     "output_type": "display_data"
    }
   ],
   "source": [
    "box.T.boxplot()\n",
    "f = plt.gcf()\n",
    "f.set_size_inches(20,10)\n",
    "plt.show()\n",
    "#The length of boxes represent the variation in scores achieved while testing !"
   ]
  },
  {
   "cell_type": "markdown",
   "metadata": {},
   "source": [
    "Logistic regression shows the least amount of model variation ! SVM linear shows the most amount of variation (using cross validation on entire dataset) !"
   ]
  },
  {
   "cell_type": "code",
   "execution_count": 73,
   "metadata": {},
   "outputs": [
    {
     "data": {
      "image/png": "[encoded data removed]",
      "text/plain": [
       "<matplotlib.figure.Figure at 0x1163474a8>"
      ]
     },
     "metadata": {},
     "output_type": "display_data"
    }
   ],
   "source": [
    "crossval['CV_Score'].plot.barh(width=0.8)\n",
    "plt.title('Average CV Mean Accuracy')\n",
    "fig=plt.gcf()\n",
    "fig.set_size_inches(8,5)\n",
    "plt.show()"
   ]
  },
  {
   "cell_type": "markdown",
   "metadata": {},
   "source": [
    "## 3.3 Confusion Matrix"
   ]
  },
  {
   "cell_type": "markdown",
   "metadata": {},
   "source": [
    "Accuracy score is good to determine how good a model performs on test data !\n",
    "But the problem with that is, imagine if number of people who died in titanic was 90% of total number of people. So irrespective of the model, accuracy will come out to be good if my model predicts every new test data I throw at it as dead ! Which shouldn't be the case in the first place ! Confusion Matrix to the rescue !"
   ]
  },
  {
   "cell_type": "markdown",
   "metadata": {},
   "source": [
    "It tells every category/discrete value which is predicted correctly and not predicted correctly !"
   ]
  },
  {
   "cell_type": "code",
   "execution_count": 74,
   "metadata": {},
   "outputs": [
    {
     "data": {
      "image/png": "[encoded data removed]",
      "text/plain": [
       "<matplotlib.figure.Figure at 0x11588d7f0>"
      ]
     },
     "metadata": {},
     "output_type": "display_data"
    }
   ],
   "source": [
    "from sklearn.model_selection import cross_val_predict\n",
    "from sklearn.metrics import confusion_matrix\n",
    "\n",
    "f,ax=plt.subplots(3,3,figsize=(12,10))\n",
    "y_pred = cross_val_predict(svm.SVC(kernel='rbf'),X,Y,cv=10)\n",
    "sns.heatmap(confusion_matrix(Y,y_pred),ax=ax[0,0],annot=True,fmt='2.0f')\n",
    "ax[0,0].set_title('Matrix for rbf-SVM')\n",
    "y_pred = cross_val_predict(svm.SVC(kernel='linear'),X,Y,cv=10)\n",
    "sns.heatmap(confusion_matrix(Y,y_pred),ax=ax[0,1],annot=True,fmt='2.0f')\n",
    "ax[0,1].set_title('Matrix for Linear-SVM')\n",
    "y_pred = cross_val_predict(KNeighborsClassifier(n_neighbors=9),X,Y,cv=10)\n",
    "sns.heatmap(confusion_matrix(Y,y_pred),ax=ax[0,2],annot=True,fmt='2.0f')\n",
    "ax[0,2].set_title('Matrix for KNN')\n",
    "y_pred = cross_val_predict(RandomForestClassifier(n_estimators=100),X,Y,cv=10)\n",
    "sns.heatmap(confusion_matrix(Y,y_pred),ax=ax[1,0],annot=True,fmt='2.0f')\n",
    "ax[1,0].set_title('Matrix for Random-Forests')\n",
    "y_pred = cross_val_predict(LogisticRegression(),X,Y,cv=10)\n",
    "sns.heatmap(confusion_matrix(Y,y_pred),ax=ax[1,1],annot=True,fmt='2.0f')\n",
    "ax[1,1].set_title('Matrix for Logistic Regression')\n",
    "y_pred = cross_val_predict(DecisionTreeClassifier(),X,Y,cv=10)\n",
    "sns.heatmap(confusion_matrix(Y,y_pred),ax=ax[1,2],annot=True,fmt='2.0f')\n",
    "ax[1,2].set_title('Matrix for Decision Tree')\n",
    "y_pred = cross_val_predict(GaussianNB(),X,Y,cv=10)\n",
    "sns.heatmap(confusion_matrix(Y,y_pred),ax=ax[2,0],annot=True,fmt='2.0f')\n",
    "ax[2,0].set_title('Matrix for Naive Bayes')\n",
    "plt.subplots_adjust(hspace=0.2,wspace=0.2)\n",
    "plt.show()"
   ]
  },
  {
   "cell_type": "markdown",
   "metadata": {},
   "source": [
    "## 3.4 Hyper-Parameter Tuning"
   ]
  },
  {
   "cell_type": "markdown",
   "metadata": {},
   "source": [
    "Hyper-Parameters are knobs which can be tuned to make the model better. For example how fast/slow a model should train, how many trees to take the average of in random forests, C and gamma variables in SVM for overfitting/underfitting etc. Now obviously we can't train the model for every combination of value one can thing of. So we use something called GridSearchCV"
   ]
  },
  {
   "cell_type": "markdown",
   "metadata": {},
   "source": [
    "I will be tuning the parameter for SVM and Random_Forest only ! You can learn more about these parameters on official sklearn website !"
   ]
  },
  {
   "cell_type": "code",
   "execution_count": 75,
   "metadata": {
    "collapsed": true
   },
   "outputs": [],
   "source": [
    "from sklearn.model_selection import GridSearchCV"
   ]
  },
  {
   "cell_type": "code",
   "execution_count": 76,
   "metadata": {},
   "outputs": [
    {
     "name": "stdout",
     "output_type": "stream",
     "text": [
      "Fitting 3 folds for each of 96 candidates, totalling 288 fits\n",
      "0.828282828283\n",
      "SVC(C=0.5, cache_size=200, class_weight=None, coef0=0.0,\n",
      "  decision_function_shape='ovr', degree=3, gamma=0.1, kernel='rbf',\n",
      "  max_iter=-1, probability=False, random_state=None, shrinking=True,\n",
      "  tol=0.001, verbose=False)\n"
     ]
    },
    {
     "name": "stderr",
     "output_type": "stream",
     "text": [
      "[Parallel(n_jobs=1)]: Done 288 out of 288 | elapsed:    7.9s finished\n"
     ]
    }
   ],
   "source": [
    "c=[0.1,0.2,0.5,1,5,10]\n",
    "gamma=[0.01,0.1,0.2,0.5,1,2,5,10]\n",
    "kernels=['rbf','linear']\n",
    "hyper={'C':c,'gamma':gamma,'kernel':kernels}\n",
    "gd=GridSearchCV(estimator=svm.SVC(),param_grid=hyper,verbose=True)\n",
    "gd.fit(X,Y)\n",
    "print(gd.best_score_)\n",
    "print(gd.best_estimator_)"
   ]
  },
  {
   "cell_type": "code",
   "execution_count": 77,
   "metadata": {},
   "outputs": [
    {
     "name": "stdout",
     "output_type": "stream",
     "text": [
      "Fitting 3 folds for each of 9 candidates, totalling 27 fits\n"
     ]
    },
    {
     "name": "stderr",
     "output_type": "stream",
     "text": [
      "[Parallel(n_jobs=1)]: Done  27 out of  27 | elapsed:   23.3s finished\n"
     ]
    },
    {
     "name": "stdout",
     "output_type": "stream",
     "text": [
      "0.817059483726\n",
      "RandomForestClassifier(bootstrap=True, class_weight=None, criterion='gini',\n",
      "            max_depth=None, max_features='auto', max_leaf_nodes=None,\n",
      "            min_impurity_decrease=0.0, min_impurity_split=None,\n",
      "            min_samples_leaf=1, min_samples_split=2,\n",
      "            min_weight_fraction_leaf=0.0, n_estimators=900, n_jobs=1,\n",
      "            oob_score=False, random_state=0, verbose=0, warm_start=False)\n"
     ]
    }
   ],
   "source": [
    "n_estimators=range(100,1000,100)\n",
    "hyper={'n_estimators':n_estimators}\n",
    "gd=GridSearchCV(estimator=RandomForestClassifier(random_state=0),param_grid=hyper,verbose=True)\n",
    "gd.fit(X,Y)\n",
    "print(gd.best_score_)\n",
    "print(gd.best_estimator_)"
   ]
  },
  {
   "cell_type": "markdown",
   "metadata": {},
   "source": [
    "## 3.5 Ensemble Techniques"
   ]
  },
  {
   "cell_type": "markdown",
   "metadata": {},
   "source": [
    "Ensemble Techniques can be regarded as using a combination of classifiers rather than a simple one, or evolving a simple model to a highly accurate one based on wrongly predicted values etc. "
   ]
  },
  {
   "cell_type": "markdown",
   "metadata": {},
   "source": [
    "How these models work is beyond the scope of this notebook but you can still work your way through without much knowledge on them and complete this entire notebook ! One thing I would still suggest is to learn these ensemble techniques thoroughly (including how these works) !"
   ]
  },
  {
   "cell_type": "markdown",
   "metadata": {},
   "source": [
    "### Voting Classifier"
   ]
  },
  {
   "cell_type": "markdown",
   "metadata": {},
   "source": [
    "Voting classifier as the name suggests, takes an average of the predictions to make a final prediction by various models. You can also do weighted voting as in assigning higher priority to certain models results while calculating the final result by changing the votin from 'soft' to 'hard' and assigning weight values !"
   ]
  },
  {
   "cell_type": "code",
   "execution_count": 78,
   "metadata": {},
   "outputs": [
    {
     "name": "stderr",
     "output_type": "stream",
     "text": [
      "/Applications/anaconda3/lib/python3.6/site-packages/sklearn/preprocessing/label.py:95: DataConversionWarning: A column-vector y was passed when a 1d array was expected. Please change the shape of y to (n_samples, ), for example using ravel().\n",
      "  y = column_or_1d(y, warn=True)\n",
      "/Applications/anaconda3/lib/python3.6/site-packages/sklearn/preprocessing/label.py:128: DataConversionWarning: A column-vector y was passed when a 1d array was expected. Please change the shape of y to (n_samples, ), for example using ravel().\n",
      "  y = column_or_1d(y, warn=True)\n"
     ]
    },
    {
     "data": {
      "text/plain": [
       "0.82462686567164178"
      ]
     },
     "execution_count": 78,
     "metadata": {},
     "output_type": "execute_result"
    }
   ],
   "source": [
    "from sklearn.ensemble import VotingClassifier\n",
    "VC = VotingClassifier(estimators=[('KNN',KNeighborsClassifier(n_neighbors=10)),\n",
    "                                              ('RBF',svm.SVC(probability=True,kernel='rbf',C=0.5,gamma=0.1)),\n",
    "                                              ('RFor',RandomForestClassifier(n_estimators=500,random_state=0)),\n",
    "                                              ('LR',LogisticRegression(C=0.05)),\n",
    "                                              ('DT',DecisionTreeClassifier(random_state=0)),\n",
    "                                              ('NB',GaussianNB()),\n",
    "                                              ('svm',svm.SVC(kernel='linear',probability=True))],voting='soft').fit(train_X,train_Y)\n",
    "VC.score(test_X,test_Y)"
   ]
  },
  {
   "cell_type": "code",
   "execution_count": 79,
   "metadata": {},
   "outputs": [
    {
     "name": "stdout",
     "output_type": "stream",
     "text": [
      "0.820455126575\n"
     ]
    }
   ],
   "source": [
    "cv=cross_val_score(VC,X,Y,cv=5,scoring='accuracy')\n",
    "print(cv.mean())"
   ]
  },
  {
   "cell_type": "markdown",
   "metadata": {},
   "source": [
    "### Bagging"
   ]
  },
  {
   "cell_type": "code",
   "execution_count": 80,
   "metadata": {},
   "outputs": [
    {
     "name": "stderr",
     "output_type": "stream",
     "text": [
      "/Applications/anaconda3/lib/python3.6/site-packages/sklearn/utils/validation.py:578: DataConversionWarning: A column-vector y was passed when a 1d array was expected. Please change the shape of y to (n_samples, ), for example using ravel().\n",
      "  y = column_or_1d(y, warn=True)\n"
     ]
    },
    {
     "data": {
      "text/plain": [
       "0.83582089552238803"
      ]
     },
     "execution_count": 80,
     "metadata": {},
     "output_type": "execute_result"
    }
   ],
   "source": [
    "from sklearn.ensemble import BaggingClassifier\n",
    "model=BaggingClassifier(base_estimator=KNeighborsClassifier(n_neighbors=3),random_state=0,n_estimators=500)\n",
    "model.fit(train_X,train_Y)\n",
    "model.score(test_X,test_Y)"
   ]
  },
  {
   "cell_type": "code",
   "execution_count": 81,
   "metadata": {},
   "outputs": [
    {
     "name": "stdout",
     "output_type": "stream",
     "text": [
      "0.817136533878\n"
     ]
    }
   ],
   "source": [
    "cv = cross_val_score(model,X,Y,cv=10,scoring='accuracy')\n",
    "print(cv.mean())"
   ]
  },
  {
   "cell_type": "code",
   "execution_count": 82,
   "metadata": {
    "collapsed": true
   },
   "outputs": [],
   "source": [
    "#You can do the same for decision tree classifier as base-estimator"
   ]
  },
  {
   "cell_type": "markdown",
   "metadata": {},
   "source": [
    "### Boosting"
   ]
  },
  {
   "cell_type": "code",
   "execution_count": 83,
   "metadata": {},
   "outputs": [
    {
     "data": {
      "text/plain": [
       "0.82495261604812176"
      ]
     },
     "execution_count": 83,
     "metadata": {},
     "output_type": "execute_result"
    }
   ],
   "source": [
    "from sklearn.ensemble import AdaBoostClassifier\n",
    "model=AdaBoostClassifier(n_estimators=200,learning_rate=0.1,random_state=0)\n",
    "cv=cross_val_score(model,X,Y,cv=10)\n",
    "cv.mean()"
   ]
  },
  {
   "cell_type": "code",
   "execution_count": 84,
   "metadata": {},
   "outputs": [
    {
     "data": {
      "text/plain": [
       "0.81828623311769388"
      ]
     },
     "execution_count": 84,
     "metadata": {},
     "output_type": "execute_result"
    }
   ],
   "source": [
    "from sklearn.ensemble import GradientBoostingClassifier\n",
    "model=GradientBoostingClassifier(n_estimators=500,random_state=0,learning_rate=0.1)\n",
    "cv=cross_val_score(model,X,Y,cv=10,scoring='accuracy')\n",
    "cv.mean()"
   ]
  },
  {
   "cell_type": "code",
   "execution_count": 85,
   "metadata": {
    "collapsed": true
   },
   "outputs": [],
   "source": [
    "#You can perform xgboost as well but I don't currently have that module specifically"
   ]
  },
  {
   "cell_type": "code",
   "execution_count": 86,
   "metadata": {},
   "outputs": [
    {
     "name": "stdout",
     "output_type": "stream",
     "text": [
      "Fitting 3 folds for each of 120 candidates, totalling 360 fits\n"
     ]
    },
    {
     "name": "stderr",
     "output_type": "stream",
     "text": [
      "[Parallel(n_jobs=1)]: Done 360 out of 360 | elapsed:  5.8min finished\n"
     ]
    },
    {
     "name": "stdout",
     "output_type": "stream",
     "text": [
      "0.83164983165\n",
      "AdaBoostClassifier(algorithm='SAMME.R', base_estimator=None,\n",
      "          learning_rate=0.05, n_estimators=200, random_state=None)\n"
     ]
    }
   ],
   "source": [
    "n_estimators=list(range(100,1100,100))\n",
    "learn_rate=[0.05,0.1,0.2,0.3,0.25,0.4,0.5,0.6,0.7,0.8,0.9,1]\n",
    "hyper={'n_estimators':n_estimators,'learning_rate':learn_rate}\n",
    "gd=GridSearchCV(estimator=AdaBoostClassifier(),param_grid=hyper,verbose=True)\n",
    "gd.fit(X,Y)\n",
    "print(gd.best_score_)\n",
    "print(gd.best_estimator_)\n",
    "\n",
    "#This model will take a lot of time to train - yyou can decrease the n_estimators range"
   ]
  },
  {
   "cell_type": "code",
   "execution_count": 87,
   "metadata": {},
   "outputs": [
    {
     "data": {
      "image/png": "[encoded data removed]",
      "text/plain": [
       "<matplotlib.figure.Figure at 0x115ea9b00>"
      ]
     },
     "metadata": {},
     "output_type": "display_data"
    }
   ],
   "source": [
    "# Using best model by far for prediction\n",
    "\n",
    "ada=AdaBoostClassifier(n_estimators=200,random_state=0,learning_rate=0.05)\n",
    "result=cross_val_predict(ada,X,Y,cv=10)\n",
    "sns.heatmap(confusion_matrix(Y,result),cmap='summer_r',annot=True,fmt='2.0f')\n",
    "plt.show()"
   ]
  },
  {
   "cell_type": "markdown",
   "metadata": {},
   "source": [
    "## 3.6 Features Importance"
   ]
  },
  {
   "cell_type": "code",
   "execution_count": 88,
   "metadata": {},
   "outputs": [
    {
     "data": {
      "text/plain": [
       "array([ 0.13638741,  0.18832734,  0.0487303 ,  0.03272655,  0.05640986,\n",
       "        0.25414886,  0.09088985,  0.0767853 ,  0.01153754,  0.10405699])"
      ]
     },
     "execution_count": 88,
     "metadata": {},
     "output_type": "execute_result"
    }
   ],
   "source": [
    "model=RandomForestClassifier(n_estimators=500,random_state=0)\n",
    "model.fit(X,Y)\n",
    "model.feature_importances_ #(feature_importances_ is available in forest based classifiers which uses a number of decision trees)"
   ]
  },
  {
   "cell_type": "code",
   "execution_count": 90,
   "metadata": {},
   "outputs": [
    {
     "data": {
      "image/png": "[encoded data removed]",
      "text/plain": [
       "<matplotlib.figure.Figure at 0x114a81c50>"
      ]
     },
     "metadata": {},
     "output_type": "display_data"
    }
   ],
   "source": [
    "model=RandomForestClassifier(n_estimators=500,random_state=0)\n",
    "model.fit(X,Y)\n",
    "pd.Series(model.feature_importances_,X.columns).sort_values(ascending=True).plot.barh(width=0.8)\n",
    "plt.show()"
   ]
  }
 ],
 "metadata": {
  "kernelspec": {
   "display_name": "Python 3",
   "language": "python",
   "name": "python3"
  },
  "language_info": {
   "codemirror_mode": {
    "name": "ipython",
    "version": 3
   },
   "file_extension": ".py",
   "mimetype": "text/x-python",
   "name": "python",
   "nbconvert_exporter": "python",
   "pygments_lexer": "ipython3",
   "version": "3.6.3"
  }
 },
 "nbformat": 4,
 "nbformat_minor": 2
}
